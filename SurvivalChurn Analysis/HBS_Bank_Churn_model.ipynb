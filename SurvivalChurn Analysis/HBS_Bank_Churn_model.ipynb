{
 "cells": [
  {
   "cell_type": "markdown",
   "id": "7c9db4e7-0658-40c7-9e7a-292396e69120",
   "metadata": {},
   "source": [
    "## PROJECT TITLE - Survival Analysis\n",
    "\n",
    "\n",
    "In the context of customer churn, survival analysis is a method used to analyze the time until customers stop doing business with a company. Instead of just looking at whether a customer churned or not, survival analysis allows businesses to examine the duration or survival time of customers before they churn. This method considers the timing of churn events and allows for the estimation of probabilities of customers remaining active over time.\n",
    "HBS Bank is a fast growing bank which has customers in various countries like France, Spain and Germany. A new manager was introduced specifically to combat the high rate of customer churn which the bank has been experiencing for the past few years. This new manager appoints you to build a survival analysis model which will not only tell us the probability of a customer churning within a specific period of time but will also help to identify those variables which contribute to the high rate of customer turnover. This will enable us to make adjustments such as our marketing strategy, target audience e.t.c.\n",
    "The specific objectives include:\n",
    "\n",
    "1.2. Goals\n",
    "1.\n",
    "Exploratory data analysis\n",
    "2.\n",
    "Identify the rate at which customer’s churn.\n",
    "3.\n",
    "Identify survival probability of entire population using the Kaplan-Meier Curve.\n",
    "4.\n",
    "Identify survival probability of entire population based on account type.\n",
    "5.\n",
    "Identify what variables are statistically significant in predicting customer churn using a cox proportional hazards model.\n",
    "6.\n",
    "Make recommendations based on your findings.\n",
    "1.3. Data Set\n",
    "Check folder for dataset\n",
    "Note: This is an open-ended question as consultants are allowed to introduce new exploratory ideas that will improve Store base’s decision making process. PROJECT TITLE\n",
    "Survival Analysis Company Name\n",
    "HBS Bank\n",
    "Industry Type\n",
    "Financial Services Start date\n",
    "9/3/2024 Project Manager\n",
    "Benjamin Oboh\n",
    "Pairview Advisory Team End date\n",
    "31/3/2024 Project No.\n",
    "X"
   ]
  },
  {
   "cell_type": "code",
   "execution_count": null,
   "id": "45cef939-192f-45fc-bd29-f979d825b558",
   "metadata": {},
   "outputs": [],
   "source": []
  },
  {
   "cell_type": "code",
   "execution_count": 3,
   "id": "785cf755-bbc2-4fdb-afdd-b9c3a9af19ce",
   "metadata": {},
   "outputs": [],
   "source": [
    "# Basic Libraries\n",
    "import numpy as np # for math computation and array handling\n",
    "import pandas as pd # for data import and wrangling\n",
    "import matplotlib.pyplot as plt # for charts /plots\n",
    "\n",
    "import seaborn as sns # better visuals than matplot\n",
    "from sklearn.preprocessing import LabelEncoder"
   ]
  },
  {
   "cell_type": "code",
   "execution_count": 4,
   "id": "cd8a816f-301a-427e-9f0b-95ca3677be4d",
   "metadata": {},
   "outputs": [
    {
     "data": {
      "text/html": [
       "<div>\n",
       "<style scoped>\n",
       "    .dataframe tbody tr th:only-of-type {\n",
       "        vertical-align: middle;\n",
       "    }\n",
       "\n",
       "    .dataframe tbody tr th {\n",
       "        vertical-align: top;\n",
       "    }\n",
       "\n",
       "    .dataframe thead th {\n",
       "        text-align: right;\n",
       "    }\n",
       "</style>\n",
       "<table border=\"1\" class=\"dataframe\">\n",
       "  <thead>\n",
       "    <tr style=\"text-align: right;\">\n",
       "      <th></th>\n",
       "      <th>CreditScore</th>\n",
       "      <th>Age</th>\n",
       "      <th>Tenure</th>\n",
       "      <th>Balance</th>\n",
       "      <th>NumOfProducts</th>\n",
       "      <th>HasCrCard</th>\n",
       "      <th>EstimatedSalary</th>\n",
       "      <th>Exited</th>\n",
       "      <th>France</th>\n",
       "      <th>Germany</th>\n",
       "      <th>Spain</th>\n",
       "      <th>Female</th>\n",
       "    </tr>\n",
       "  </thead>\n",
       "  <tbody>\n",
       "    <tr>\n",
       "      <th>0</th>\n",
       "      <td>581</td>\n",
       "      <td>34.0</td>\n",
       "      <td>2</td>\n",
       "      <td>148882.54</td>\n",
       "      <td>Savings Account</td>\n",
       "      <td>1</td>\n",
       "      <td>84560.88</td>\n",
       "      <td>0</td>\n",
       "      <td>1</td>\n",
       "      <td>0</td>\n",
       "      <td>0</td>\n",
       "      <td>0</td>\n",
       "    </tr>\n",
       "    <tr>\n",
       "      <th>1</th>\n",
       "      <td>588</td>\n",
       "      <td>36.0</td>\n",
       "      <td>4</td>\n",
       "      <td>131778.58</td>\n",
       "      <td>Savings Account</td>\n",
       "      <td>1</td>\n",
       "      <td>136024.31</td>\n",
       "      <td>1</td>\n",
       "      <td>0</td>\n",
       "      <td>1</td>\n",
       "      <td>0</td>\n",
       "      <td>0</td>\n",
       "    </tr>\n",
       "    <tr>\n",
       "      <th>2</th>\n",
       "      <td>593</td>\n",
       "      <td>30.0</td>\n",
       "      <td>8</td>\n",
       "      <td>144772.69</td>\n",
       "      <td>Savings Account</td>\n",
       "      <td>1</td>\n",
       "      <td>29792.11</td>\n",
       "      <td>0</td>\n",
       "      <td>1</td>\n",
       "      <td>0</td>\n",
       "      <td>0</td>\n",
       "      <td>1</td>\n",
       "    </tr>\n",
       "    <tr>\n",
       "      <th>3</th>\n",
       "      <td>678</td>\n",
       "      <td>37.0</td>\n",
       "      <td>1</td>\n",
       "      <td>138476.41</td>\n",
       "      <td>Savings Account</td>\n",
       "      <td>1</td>\n",
       "      <td>106851.60</td>\n",
       "      <td>0</td>\n",
       "      <td>0</td>\n",
       "      <td>0</td>\n",
       "      <td>1</td>\n",
       "      <td>0</td>\n",
       "    </tr>\n",
       "    <tr>\n",
       "      <th>4</th>\n",
       "      <td>583</td>\n",
       "      <td>40.0</td>\n",
       "      <td>4</td>\n",
       "      <td>81274.33</td>\n",
       "      <td>Savings Account</td>\n",
       "      <td>1</td>\n",
       "      <td>170843.07</td>\n",
       "      <td>0</td>\n",
       "      <td>0</td>\n",
       "      <td>1</td>\n",
       "      <td>0</td>\n",
       "      <td>0</td>\n",
       "    </tr>\n",
       "  </tbody>\n",
       "</table>\n",
       "</div>"
      ],
      "text/plain": [
       "   CreditScore   Age  Tenure    Balance    NumOfProducts  HasCrCard  \\\n",
       "0          581  34.0       2  148882.54  Savings Account          1   \n",
       "1          588  36.0       4  131778.58  Savings Account          1   \n",
       "2          593  30.0       8  144772.69  Savings Account          1   \n",
       "3          678  37.0       1  138476.41  Savings Account          1   \n",
       "4          583  40.0       4   81274.33  Savings Account          1   \n",
       "\n",
       "   EstimatedSalary  Exited  France  Germany  Spain  Female  \n",
       "0         84560.88       0       1        0      0       0  \n",
       "1        136024.31       1       0        1      0       0  \n",
       "2         29792.11       0       1        0      0       1  \n",
       "3        106851.60       0       0        0      1       0  \n",
       "4        170843.07       0       0        1      0       0  "
      ]
     },
     "execution_count": 4,
     "metadata": {},
     "output_type": "execute_result"
    }
   ],
   "source": [
    "df = pd.read_excel('HBS  Bank dataset.xlsx')\n",
    "df.head()"
   ]
  },
  {
   "cell_type": "code",
   "execution_count": 5,
   "id": "ec65bc95-1d9b-4e87-8685-94bf3759b4e4",
   "metadata": {},
   "outputs": [
    {
     "data": {
      "text/html": [
       "<div>\n",
       "<style scoped>\n",
       "    .dataframe tbody tr th:only-of-type {\n",
       "        vertical-align: middle;\n",
       "    }\n",
       "\n",
       "    .dataframe tbody tr th {\n",
       "        vertical-align: top;\n",
       "    }\n",
       "\n",
       "    .dataframe thead th {\n",
       "        text-align: right;\n",
       "    }\n",
       "</style>\n",
       "<table border=\"1\" class=\"dataframe\">\n",
       "  <thead>\n",
       "    <tr style=\"text-align: right;\">\n",
       "      <th></th>\n",
       "      <th>CreditScore</th>\n",
       "      <th>Age</th>\n",
       "      <th>Tenure</th>\n",
       "      <th>Balance</th>\n",
       "      <th>NumOfProducts</th>\n",
       "      <th>HasCrCard</th>\n",
       "      <th>EstimatedSalary</th>\n",
       "      <th>Exited</th>\n",
       "      <th>France</th>\n",
       "      <th>Germany</th>\n",
       "      <th>Spain</th>\n",
       "      <th>Sex</th>\n",
       "    </tr>\n",
       "  </thead>\n",
       "  <tbody>\n",
       "    <tr>\n",
       "      <th>0</th>\n",
       "      <td>581</td>\n",
       "      <td>34.0</td>\n",
       "      <td>2</td>\n",
       "      <td>148882.54</td>\n",
       "      <td>Savings Account</td>\n",
       "      <td>1</td>\n",
       "      <td>84560.88</td>\n",
       "      <td>0</td>\n",
       "      <td>1</td>\n",
       "      <td>0</td>\n",
       "      <td>0</td>\n",
       "      <td>0</td>\n",
       "    </tr>\n",
       "    <tr>\n",
       "      <th>1</th>\n",
       "      <td>588</td>\n",
       "      <td>36.0</td>\n",
       "      <td>4</td>\n",
       "      <td>131778.58</td>\n",
       "      <td>Savings Account</td>\n",
       "      <td>1</td>\n",
       "      <td>136024.31</td>\n",
       "      <td>1</td>\n",
       "      <td>0</td>\n",
       "      <td>1</td>\n",
       "      <td>0</td>\n",
       "      <td>0</td>\n",
       "    </tr>\n",
       "    <tr>\n",
       "      <th>2</th>\n",
       "      <td>593</td>\n",
       "      <td>30.0</td>\n",
       "      <td>8</td>\n",
       "      <td>144772.69</td>\n",
       "      <td>Savings Account</td>\n",
       "      <td>1</td>\n",
       "      <td>29792.11</td>\n",
       "      <td>0</td>\n",
       "      <td>1</td>\n",
       "      <td>0</td>\n",
       "      <td>0</td>\n",
       "      <td>1</td>\n",
       "    </tr>\n",
       "    <tr>\n",
       "      <th>3</th>\n",
       "      <td>678</td>\n",
       "      <td>37.0</td>\n",
       "      <td>1</td>\n",
       "      <td>138476.41</td>\n",
       "      <td>Savings Account</td>\n",
       "      <td>1</td>\n",
       "      <td>106851.60</td>\n",
       "      <td>0</td>\n",
       "      <td>0</td>\n",
       "      <td>0</td>\n",
       "      <td>1</td>\n",
       "      <td>0</td>\n",
       "    </tr>\n",
       "    <tr>\n",
       "      <th>4</th>\n",
       "      <td>583</td>\n",
       "      <td>40.0</td>\n",
       "      <td>4</td>\n",
       "      <td>81274.33</td>\n",
       "      <td>Savings Account</td>\n",
       "      <td>1</td>\n",
       "      <td>170843.07</td>\n",
       "      <td>0</td>\n",
       "      <td>0</td>\n",
       "      <td>1</td>\n",
       "      <td>0</td>\n",
       "      <td>0</td>\n",
       "    </tr>\n",
       "  </tbody>\n",
       "</table>\n",
       "</div>"
      ],
      "text/plain": [
       "   CreditScore   Age  Tenure    Balance    NumOfProducts  HasCrCard  \\\n",
       "0          581  34.0       2  148882.54  Savings Account          1   \n",
       "1          588  36.0       4  131778.58  Savings Account          1   \n",
       "2          593  30.0       8  144772.69  Savings Account          1   \n",
       "3          678  37.0       1  138476.41  Savings Account          1   \n",
       "4          583  40.0       4   81274.33  Savings Account          1   \n",
       "\n",
       "   EstimatedSalary  Exited  France  Germany  Spain  Sex  \n",
       "0         84560.88       0       1        0      0    0  \n",
       "1        136024.31       1       0        1      0    0  \n",
       "2         29792.11       0       1        0      0    1  \n",
       "3        106851.60       0       0        0      1    0  \n",
       "4        170843.07       0       0        1      0    0  "
      ]
     },
     "execution_count": 5,
     "metadata": {},
     "output_type": "execute_result"
    }
   ],
   "source": [
    "df = df.rename(columns={'Female': 'Sex'})\n",
    "df.head()"
   ]
  },
  {
   "cell_type": "code",
   "execution_count": 6,
   "id": "c0194b29-58cb-4a49-a305-8d1a944e1c8b",
   "metadata": {},
   "outputs": [
    {
     "name": "stdout",
     "output_type": "stream",
     "text": [
      "The dataset has 81764 rows and 12 columns\n"
     ]
    }
   ],
   "source": [
    "print(f'The dataset has {df.shape[0]} rows and {df.shape[1]} columns')"
   ]
  },
  {
   "cell_type": "code",
   "execution_count": 7,
   "id": "47b476ba-537e-41e2-b8db-e1ee7cc9f8d5",
   "metadata": {},
   "outputs": [
    {
     "name": "stdout",
     "output_type": "stream",
     "text": [
      "<class 'pandas.core.frame.DataFrame'>\n",
      "RangeIndex: 81764 entries, 0 to 81763\n",
      "Data columns (total 12 columns):\n",
      " #   Column           Non-Null Count  Dtype  \n",
      "---  ------           --------------  -----  \n",
      " 0   CreditScore      81764 non-null  int64  \n",
      " 1   Age              81764 non-null  float64\n",
      " 2   Tenure           81764 non-null  int64  \n",
      " 3   Balance          81764 non-null  float64\n",
      " 4   NumOfProducts    81764 non-null  object \n",
      " 5   HasCrCard        81764 non-null  int64  \n",
      " 6   EstimatedSalary  81764 non-null  float64\n",
      " 7   Exited           81764 non-null  int64  \n",
      " 8   France           81764 non-null  int64  \n",
      " 9   Germany          81764 non-null  int64  \n",
      " 10  Spain            81764 non-null  int64  \n",
      " 11  Sex              81764 non-null  int64  \n",
      "dtypes: float64(3), int64(8), object(1)\n",
      "memory usage: 7.5+ MB\n"
     ]
    }
   ],
   "source": [
    "# Checking for the datatypes:\n",
    "df.info()"
   ]
  },
  {
   "cell_type": "code",
   "execution_count": 8,
   "id": "613ed4e1-4778-49be-993c-1f08ccc16e2c",
   "metadata": {},
   "outputs": [
    {
     "data": {
      "text/html": [
       "<div>\n",
       "<style scoped>\n",
       "    .dataframe tbody tr th:only-of-type {\n",
       "        vertical-align: middle;\n",
       "    }\n",
       "\n",
       "    .dataframe tbody tr th {\n",
       "        vertical-align: top;\n",
       "    }\n",
       "\n",
       "    .dataframe thead th {\n",
       "        text-align: right;\n",
       "    }\n",
       "</style>\n",
       "<table border=\"1\" class=\"dataframe\">\n",
       "  <thead>\n",
       "    <tr style=\"text-align: right;\">\n",
       "      <th></th>\n",
       "      <th>CreditScore</th>\n",
       "      <th>Age</th>\n",
       "      <th>Tenure</th>\n",
       "      <th>Balance</th>\n",
       "      <th>HasCrCard</th>\n",
       "      <th>EstimatedSalary</th>\n",
       "      <th>Exited</th>\n",
       "      <th>France</th>\n",
       "      <th>Germany</th>\n",
       "      <th>Spain</th>\n",
       "      <th>Sex</th>\n",
       "    </tr>\n",
       "  </thead>\n",
       "  <tbody>\n",
       "    <tr>\n",
       "      <th>count</th>\n",
       "      <td>81764.0</td>\n",
       "      <td>81764.0</td>\n",
       "      <td>81764.0</td>\n",
       "      <td>81764.0</td>\n",
       "      <td>81764.0</td>\n",
       "      <td>81764.0</td>\n",
       "      <td>81764.0</td>\n",
       "      <td>81764.0</td>\n",
       "      <td>81764.0</td>\n",
       "      <td>81764.0</td>\n",
       "      <td>81764.0</td>\n",
       "    </tr>\n",
       "    <tr>\n",
       "      <th>mean</th>\n",
       "      <td>656.7</td>\n",
       "      <td>38.8</td>\n",
       "      <td>5.0</td>\n",
       "      <td>121325.1</td>\n",
       "      <td>0.7</td>\n",
       "      <td>112067.6</td>\n",
       "      <td>0.3</td>\n",
       "      <td>0.4</td>\n",
       "      <td>0.5</td>\n",
       "      <td>0.2</td>\n",
       "      <td>0.4</td>\n",
       "    </tr>\n",
       "    <tr>\n",
       "      <th>std</th>\n",
       "      <td>82.9</td>\n",
       "      <td>9.2</td>\n",
       "      <td>2.8</td>\n",
       "      <td>25455.8</td>\n",
       "      <td>0.4</td>\n",
       "      <td>50790.8</td>\n",
       "      <td>0.4</td>\n",
       "      <td>0.5</td>\n",
       "      <td>0.5</td>\n",
       "      <td>0.4</td>\n",
       "      <td>0.5</td>\n",
       "    </tr>\n",
       "    <tr>\n",
       "      <th>min</th>\n",
       "      <td>350.0</td>\n",
       "      <td>18.0</td>\n",
       "      <td>0.0</td>\n",
       "      <td>18.3</td>\n",
       "      <td>0.0</td>\n",
       "      <td>11.6</td>\n",
       "      <td>0.0</td>\n",
       "      <td>0.0</td>\n",
       "      <td>0.0</td>\n",
       "      <td>0.0</td>\n",
       "      <td>0.0</td>\n",
       "    </tr>\n",
       "    <tr>\n",
       "      <th>25%</th>\n",
       "      <td>597.0</td>\n",
       "      <td>32.0</td>\n",
       "      <td>3.0</td>\n",
       "      <td>104796.5</td>\n",
       "      <td>0.0</td>\n",
       "      <td>72993.6</td>\n",
       "      <td>0.0</td>\n",
       "      <td>0.0</td>\n",
       "      <td>0.0</td>\n",
       "      <td>0.0</td>\n",
       "      <td>0.0</td>\n",
       "    </tr>\n",
       "    <tr>\n",
       "      <th>50%</th>\n",
       "      <td>659.0</td>\n",
       "      <td>38.0</td>\n",
       "      <td>5.0</td>\n",
       "      <td>122096.7</td>\n",
       "      <td>1.0</td>\n",
       "      <td>116780.3</td>\n",
       "      <td>0.0</td>\n",
       "      <td>0.0</td>\n",
       "      <td>0.0</td>\n",
       "      <td>0.0</td>\n",
       "      <td>0.0</td>\n",
       "    </tr>\n",
       "    <tr>\n",
       "      <th>75%</th>\n",
       "      <td>712.0</td>\n",
       "      <td>44.0</td>\n",
       "      <td>7.0</td>\n",
       "      <td>137841.5</td>\n",
       "      <td>1.0</td>\n",
       "      <td>155743.5</td>\n",
       "      <td>1.0</td>\n",
       "      <td>1.0</td>\n",
       "      <td>1.0</td>\n",
       "      <td>0.0</td>\n",
       "      <td>1.0</td>\n",
       "    </tr>\n",
       "    <tr>\n",
       "      <th>max</th>\n",
       "      <td>850.0</td>\n",
       "      <td>92.0</td>\n",
       "      <td>10.0</td>\n",
       "      <td>250898.1</td>\n",
       "      <td>1.0</td>\n",
       "      <td>199992.5</td>\n",
       "      <td>1.0</td>\n",
       "      <td>1.0</td>\n",
       "      <td>1.0</td>\n",
       "      <td>1.0</td>\n",
       "      <td>1.0</td>\n",
       "    </tr>\n",
       "  </tbody>\n",
       "</table>\n",
       "</div>"
      ],
      "text/plain": [
       "       CreditScore      Age   Tenure   Balance  HasCrCard  EstimatedSalary  \\\n",
       "count      81764.0  81764.0  81764.0   81764.0    81764.0          81764.0   \n",
       "mean         656.7     38.8      5.0  121325.1        0.7         112067.6   \n",
       "std           82.9      9.2      2.8   25455.8        0.4          50790.8   \n",
       "min          350.0     18.0      0.0      18.3        0.0             11.6   \n",
       "25%          597.0     32.0      3.0  104796.5        0.0          72993.6   \n",
       "50%          659.0     38.0      5.0  122096.7        1.0         116780.3   \n",
       "75%          712.0     44.0      7.0  137841.5        1.0         155743.5   \n",
       "max          850.0     92.0     10.0  250898.1        1.0         199992.5   \n",
       "\n",
       "        Exited   France  Germany    Spain      Sex  \n",
       "count  81764.0  81764.0  81764.0  81764.0  81764.0  \n",
       "mean       0.3      0.4      0.5      0.2      0.4  \n",
       "std        0.4      0.5      0.5      0.4      0.5  \n",
       "min        0.0      0.0      0.0      0.0      0.0  \n",
       "25%        0.0      0.0      0.0      0.0      0.0  \n",
       "50%        0.0      0.0      0.0      0.0      0.0  \n",
       "75%        1.0      1.0      1.0      0.0      1.0  \n",
       "max        1.0      1.0      1.0      1.0      1.0  "
      ]
     },
     "execution_count": 8,
     "metadata": {},
     "output_type": "execute_result"
    }
   ],
   "source": [
    "# Using our describe function to do our exploratory data analysis:\n",
    "\n",
    "df.describe().round(1)\n"
   ]
  },
  {
   "cell_type": "code",
   "execution_count": 9,
   "id": "a8141e07-bbe2-4e0c-8bb2-28a8d04ae014",
   "metadata": {},
   "outputs": [
    {
     "data": {
      "image/png": "[encoded data removed]",
      "text/plain": [
       "<Figure size 1000x700 with 12 Axes>"
      ]
     },
     "metadata": {},
     "output_type": "display_data"
    }
   ],
   "source": [
    "# To check for distribution\n",
    "\n",
    "plt.rcParams['figure.figsize'] = (10, 7) # inches\n",
    "\n",
    "df.hist();"
   ]
  },
  {
   "cell_type": "code",
   "execution_count": null,
   "id": "49c15c36-eeb0-460f-a49e-646b4170237c",
   "metadata": {},
   "outputs": [],
   "source": []
  },
  {
   "cell_type": "code",
   "execution_count": null,
   "id": "b16b556b-9297-4c55-9d28-6950c6a24b08",
   "metadata": {},
   "outputs": [],
   "source": []
  },
  {
   "cell_type": "code",
   "execution_count": null,
   "id": "56fc89ed-ea04-45cc-bef7-fbbea6d9e914",
   "metadata": {},
   "outputs": [],
   "source": []
  },
  {
   "cell_type": "code",
   "execution_count": null,
   "id": "fcebdfc7-97cc-4ec3-9bba-30b0888253e9",
   "metadata": {},
   "outputs": [],
   "source": []
  },
  {
   "cell_type": "code",
   "execution_count": 10,
   "id": "f1211504-6c89-4352-9ef9-1e403cdcbfc9",
   "metadata": {},
   "outputs": [
    {
     "data": {
      "text/html": [
       "<div>\n",
       "<style scoped>\n",
       "    .dataframe tbody tr th:only-of-type {\n",
       "        vertical-align: middle;\n",
       "    }\n",
       "\n",
       "    .dataframe tbody tr th {\n",
       "        vertical-align: top;\n",
       "    }\n",
       "\n",
       "    .dataframe thead th {\n",
       "        text-align: right;\n",
       "    }\n",
       "</style>\n",
       "<table border=\"1\" class=\"dataframe\">\n",
       "  <thead>\n",
       "    <tr style=\"text-align: right;\">\n",
       "      <th></th>\n",
       "      <th>CreditScore</th>\n",
       "      <th>Age</th>\n",
       "      <th>Tenure</th>\n",
       "      <th>Balance</th>\n",
       "      <th>NumOfProducts</th>\n",
       "      <th>HasCrCard</th>\n",
       "      <th>EstimatedSalary</th>\n",
       "      <th>Exited</th>\n",
       "      <th>France</th>\n",
       "      <th>Germany</th>\n",
       "      <th>Spain</th>\n",
       "      <th>Sex</th>\n",
       "    </tr>\n",
       "  </thead>\n",
       "  <tbody>\n",
       "    <tr>\n",
       "      <th>0</th>\n",
       "      <td>581</td>\n",
       "      <td>34.0</td>\n",
       "      <td>2</td>\n",
       "      <td>148882.54</td>\n",
       "      <td>Savings Account</td>\n",
       "      <td>1</td>\n",
       "      <td>84560.88</td>\n",
       "      <td>0</td>\n",
       "      <td>1</td>\n",
       "      <td>0</td>\n",
       "      <td>0</td>\n",
       "      <td>0</td>\n",
       "    </tr>\n",
       "    <tr>\n",
       "      <th>1</th>\n",
       "      <td>588</td>\n",
       "      <td>36.0</td>\n",
       "      <td>4</td>\n",
       "      <td>131778.58</td>\n",
       "      <td>Savings Account</td>\n",
       "      <td>1</td>\n",
       "      <td>136024.31</td>\n",
       "      <td>1</td>\n",
       "      <td>0</td>\n",
       "      <td>1</td>\n",
       "      <td>0</td>\n",
       "      <td>0</td>\n",
       "    </tr>\n",
       "    <tr>\n",
       "      <th>2</th>\n",
       "      <td>593</td>\n",
       "      <td>30.0</td>\n",
       "      <td>8</td>\n",
       "      <td>144772.69</td>\n",
       "      <td>Savings Account</td>\n",
       "      <td>1</td>\n",
       "      <td>29792.11</td>\n",
       "      <td>0</td>\n",
       "      <td>1</td>\n",
       "      <td>0</td>\n",
       "      <td>0</td>\n",
       "      <td>1</td>\n",
       "    </tr>\n",
       "    <tr>\n",
       "      <th>3</th>\n",
       "      <td>678</td>\n",
       "      <td>37.0</td>\n",
       "      <td>1</td>\n",
       "      <td>138476.41</td>\n",
       "      <td>Savings Account</td>\n",
       "      <td>1</td>\n",
       "      <td>106851.60</td>\n",
       "      <td>0</td>\n",
       "      <td>0</td>\n",
       "      <td>0</td>\n",
       "      <td>1</td>\n",
       "      <td>0</td>\n",
       "    </tr>\n",
       "    <tr>\n",
       "      <th>4</th>\n",
       "      <td>583</td>\n",
       "      <td>40.0</td>\n",
       "      <td>4</td>\n",
       "      <td>81274.33</td>\n",
       "      <td>Savings Account</td>\n",
       "      <td>1</td>\n",
       "      <td>170843.07</td>\n",
       "      <td>0</td>\n",
       "      <td>0</td>\n",
       "      <td>1</td>\n",
       "      <td>0</td>\n",
       "      <td>0</td>\n",
       "    </tr>\n",
       "  </tbody>\n",
       "</table>\n",
       "</div>"
      ],
      "text/plain": [
       "   CreditScore   Age  Tenure    Balance    NumOfProducts  HasCrCard  \\\n",
       "0          581  34.0       2  148882.54  Savings Account          1   \n",
       "1          588  36.0       4  131778.58  Savings Account          1   \n",
       "2          593  30.0       8  144772.69  Savings Account          1   \n",
       "3          678  37.0       1  138476.41  Savings Account          1   \n",
       "4          583  40.0       4   81274.33  Savings Account          1   \n",
       "\n",
       "   EstimatedSalary  Exited  France  Germany  Spain  Sex  \n",
       "0         84560.88       0       1        0      0    0  \n",
       "1        136024.31       1       0        1      0    0  \n",
       "2         29792.11       0       1        0      0    1  \n",
       "3        106851.60       0       0        0      1    0  \n",
       "4        170843.07       0       0        1      0    0  "
      ]
     },
     "execution_count": 10,
     "metadata": {},
     "output_type": "execute_result"
    }
   ],
   "source": [
    "df.head()"
   ]
  },
  {
   "cell_type": "markdown",
   "id": "02f4362d-0b95-4a54-b452-326b02dc4baf",
   "metadata": {},
   "source": [
    "## To identify the rate at which customers churcn\n",
    "#### Exited: Whether the customer has churned (1 = yes, 0 = no).\n",
    "\n",
    "Churn Rate=( Number of Churned Customers/\n",
    "Total Number of Customers at the Beginning of the Period\n",
    "\n",
    "​\n",
    " )×100%"
   ]
  },
  {
   "cell_type": "code",
   "execution_count": 11,
   "id": "bf477a09-c733-4f33-9eea-5c65e61df7c0",
   "metadata": {},
   "outputs": [
    {
     "name": "stdout",
     "output_type": "stream",
     "text": [
      "The rate at which customers churned is 26.86390098331784\n"
     ]
    }
   ],
   "source": [
    "# Calculate churn rate using the simple churn rate calculation\n",
    "total_customers_beginning = len(df)\n",
    "churned_customers = df['Exited'].sum()  # Since customers who churned is represented with 1\n",
    "simple_churn_rate = (churned_customers / total_customers_beginning) * 100\n",
    "\n",
    "print(f'The rate at which customers churned is {simple_churn_rate}')"
   ]
  },
  {
   "cell_type": "code",
   "execution_count": 12,
   "id": "a94eab47-1731-4afa-a5bf-e89f801be358",
   "metadata": {},
   "outputs": [
    {
     "name": "stdout",
     "output_type": "stream",
     "text": [
      "<class 'pandas.core.frame.DataFrame'>\n",
      "RangeIndex: 81764 entries, 0 to 81763\n",
      "Data columns (total 12 columns):\n",
      " #   Column           Non-Null Count  Dtype  \n",
      "---  ------           --------------  -----  \n",
      " 0   CreditScore      81764 non-null  int64  \n",
      " 1   Age              81764 non-null  float64\n",
      " 2   Tenure           81764 non-null  int64  \n",
      " 3   Balance          81764 non-null  float64\n",
      " 4   NumOfProducts    81764 non-null  object \n",
      " 5   HasCrCard        81764 non-null  int64  \n",
      " 6   EstimatedSalary  81764 non-null  float64\n",
      " 7   Exited           81764 non-null  int64  \n",
      " 8   France           81764 non-null  int64  \n",
      " 9   Germany          81764 non-null  int64  \n",
      " 10  Spain            81764 non-null  int64  \n",
      " 11  Sex              81764 non-null  int64  \n",
      "dtypes: float64(3), int64(8), object(1)\n",
      "memory usage: 7.5+ MB\n"
     ]
    }
   ],
   "source": [
    "df.info()"
   ]
  },
  {
   "cell_type": "code",
   "execution_count": null,
   "id": "039b2e13-8146-4051-9d41-e09a3ec1a83e",
   "metadata": {},
   "outputs": [],
   "source": []
  },
  {
   "cell_type": "code",
   "execution_count": 13,
   "id": "3713d0b8-d27f-4580-b045-3fe1fcc7140b",
   "metadata": {},
   "outputs": [
    {
     "name": "stderr",
     "output_type": "stream",
     "text": [
      "C:\\ProgramData\\anaconda3\\Lib\\site-packages\\seaborn\\_oldcore.py:1119: FutureWarning: use_inf_as_na option is deprecated and will be removed in a future version. Convert inf values to NaN before operating instead.\n",
      "  with pd.option_context('mode.use_inf_as_na', True):\n",
      "C:\\ProgramData\\anaconda3\\Lib\\site-packages\\seaborn\\_oldcore.py:1119: FutureWarning: use_inf_as_na option is deprecated and will be removed in a future version. Convert inf values to NaN before operating instead.\n",
      "  with pd.option_context('mode.use_inf_as_na', True):\n"
     ]
    },
    {
     "data": {
      "text/plain": [
       "[<matplotlib.axis.XTick at 0x21a75f62290>,\n",
       " <matplotlib.axis.XTick at 0x21a75f8b310>,\n",
       " <matplotlib.axis.XTick at 0x21a7398ae90>,\n",
       " <matplotlib.axis.XTick at 0x21a739f0b10>,\n",
       " <matplotlib.axis.XTick at 0x21a739f2d50>,\n",
       " <matplotlib.axis.XTick at 0x21a739fd010>,\n",
       " <matplotlib.axis.XTick at 0x21a739fe350>,\n",
       " <matplotlib.axis.XTick at 0x21a73a04290>,\n",
       " <matplotlib.axis.XTick at 0x21a7619c750>,\n",
       " <matplotlib.axis.XTick at 0x21a739c82d0>]"
      ]
     },
     "execution_count": 13,
     "metadata": {},
     "output_type": "execute_result"
    },
    {
     "data": {
      "image/png": "[encoded data removed]",
      "text/plain": [
       "<Figure size 1500x600 with 2 Axes>"
      ]
     },
     "metadata": {},
     "output_type": "display_data"
    }
   ],
   "source": [
    "# using our Tenure column, we want to know the tenure with HBS with the most Churn\n",
    "\n",
    "f, (ax1, ax2) = plt.subplots(1, 2, figsize=(15, 6))\n",
    "\n",
    "# Plotting the histogram for our no exit (represented by 0)\n",
    "ax1 = sns.histplot(x='Tenure', data=df[df['Exited'] == 0],\n",
    "                  stat='density', bins=10, ax=ax1, color='red') \n",
    "\n",
    "# Plotting the histogram for exited (represented by 1)\n",
    "ax2 = sns.histplot(x='Tenure', data=df[df['Exited'] == 1],\n",
    "                  stat='density', bins=10, ax=ax2, color='green') \n",
    "\n",
    "ax1.set_title('Not Exited')\n",
    "ax2.set_title('Exited')\n",
    "\n",
    "# ticks is set to prevent the system from assuming figs like 5,10 15\n",
    "ax1.set_xticks(np.arange(10)) #ticks from 0-10\n",
    "ax2.set_xticks(np.arange(10)) #ticks from 0-10"
   ]
  },
  {
   "cell_type": "code",
   "execution_count": 14,
   "id": "c9b5ca71-c349-4f5b-931f-e2f76bfe7ae0",
   "metadata": {},
   "outputs": [
    {
     "data": {
      "text/plain": [
       "Tenure\n",
       "0      865\n",
       "1     2439\n",
       "2     2193\n",
       "3     2375\n",
       "4     2422\n",
       "5     2381\n",
       "6     1984\n",
       "7     2065\n",
       "8     2184\n",
       "9     2224\n",
       "10     833\n",
       "Name: Exited, dtype: int64"
      ]
     },
     "execution_count": 14,
     "metadata": {},
     "output_type": "execute_result"
    }
   ],
   "source": [
    "# To determine the Tenure of customers with HBS Bank that Exited:\n",
    "\n",
    "Exited_tenure = df.groupby('Tenure')['Exited'].sum()\n",
    "Exited_tenure"
   ]
  },
  {
   "cell_type": "code",
   "execution_count": 15,
   "id": "4e618310-da79-4242-9f9f-644c3f201f43",
   "metadata": {},
   "outputs": [
    {
     "name": "stdout",
     "output_type": "stream",
     "text": [
      "The Tenure with the highest exit at HBS bank is 1 \n",
      "While the tenure with the lowest exit at HBS bank is 10\n"
     ]
    }
   ],
   "source": [
    "# To determine the highest and lowest tenure that exited:\n",
    "\n",
    "highest_Exited_tenure = Exited_tenure.idxmax() # the index with the highest (max)\n",
    " \n",
    "lowest_Exited_tenure = Exited_tenure.idxmin() # the index with the lowest (min)\n",
    " \n",
    "print(f'The Tenure with the highest exit at HBS bank is {highest_Exited_tenure} \\nWhile the tenure with the lowest exit at HBS bank is {lowest_Exited_tenure}')"
   ]
  },
  {
   "cell_type": "code",
   "execution_count": 16,
   "id": "39dbd67e-1fe5-434f-a422-fd5cb70bd812",
   "metadata": {},
   "outputs": [
    {
     "data": {
      "image/png": "[encoded data removed]",
      "text/plain": [
       "<Figure size 600x400 with 1 Axes>"
      ]
     },
     "metadata": {},
     "output_type": "display_data"
    }
   ],
   "source": [
    "# Uisng visualization to observe this.\n",
    "# histogram representation - matplotlib\n",
    " \n",
    "plt.figure(figsize=(6, 4))\n",
    "plt.bar(Exited_tenure.index, Exited_tenure.values, color='purple')\n",
    "plt.xlabel('Tenure')\n",
    "plt.ylabel('Churn activities at HBS Bank')\n",
    "plt.title('Tenure with HBS Bank')\n",
    "plt.grid(axis='y', linestyle='--', alpha=0.7)\n",
    "plt.show()"
   ]
  },
  {
   "cell_type": "markdown",
   "id": "5d3df7c6-835e-431e-bd5b-2d727526c96c",
   "metadata": {},
   "source": [
    "### Identifing survival probability of entire population using the Kaplan-Meier Curve."
   ]
  },
  {
   "cell_type": "code",
   "execution_count": 17,
   "id": "c1918ecf-b857-49c4-b38d-691f99ddb753",
   "metadata": {
    "scrolled": true
   },
   "outputs": [
    {
     "name": "stdout",
     "output_type": "stream",
     "text": [
      "Defaulting to user installation because normal site-packages is not writeable\n",
      "Requirement already satisfied: lifelines in c:\\users\\oluwaseun bamgbose\\appdata\\roaming\\python\\python311\\site-packages (0.28.0)\n",
      "Requirement already satisfied: numpy<2.0,>=1.14.0 in c:\\programdata\\anaconda3\\lib\\site-packages (from lifelines) (1.26.4)\n",
      "Requirement already satisfied: scipy>=1.2.0 in c:\\programdata\\anaconda3\\lib\\site-packages (from lifelines) (1.11.4)\n",
      "Requirement already satisfied: pandas>=1.2.0 in c:\\programdata\\anaconda3\\lib\\site-packages (from lifelines) (2.1.4)\n",
      "Requirement already satisfied: matplotlib>=3.0 in c:\\programdata\\anaconda3\\lib\\site-packages (from lifelines) (3.8.0)\n",
      "Requirement already satisfied: autograd>=1.5 in c:\\users\\oluwaseun bamgbose\\appdata\\roaming\\python\\python311\\site-packages (from lifelines) (1.6.2)\n",
      "Requirement already satisfied: autograd-gamma>=0.3 in c:\\users\\oluwaseun bamgbose\\appdata\\roaming\\python\\python311\\site-packages (from lifelines) (0.5.0)\n",
      "Requirement already satisfied: formulaic>=0.2.2 in c:\\users\\oluwaseun bamgbose\\appdata\\roaming\\python\\python311\\site-packages (from lifelines) (1.0.1)\n",
      "Requirement already satisfied: future>=0.15.2 in c:\\programdata\\anaconda3\\lib\\site-packages (from autograd>=1.5->lifelines) (0.18.3)\n",
      "Requirement already satisfied: interface-meta>=1.2.0 in c:\\users\\oluwaseun bamgbose\\appdata\\roaming\\python\\python311\\site-packages (from formulaic>=0.2.2->lifelines) (1.3.0)\n",
      "Requirement already satisfied: typing-extensions>=4.2.0 in c:\\programdata\\anaconda3\\lib\\site-packages (from formulaic>=0.2.2->lifelines) (4.9.0)\n",
      "Requirement already satisfied: wrapt>=1.0 in c:\\programdata\\anaconda3\\lib\\site-packages (from formulaic>=0.2.2->lifelines) (1.14.1)\n",
      "Requirement already satisfied: contourpy>=1.0.1 in c:\\programdata\\anaconda3\\lib\\site-packages (from matplotlib>=3.0->lifelines) (1.2.0)\n",
      "Requirement already satisfied: cycler>=0.10 in c:\\programdata\\anaconda3\\lib\\site-packages (from matplotlib>=3.0->lifelines) (0.11.0)\n",
      "Requirement already satisfied: fonttools>=4.22.0 in c:\\programdata\\anaconda3\\lib\\site-packages (from matplotlib>=3.0->lifelines) (4.25.0)\n",
      "Requirement already satisfied: kiwisolver>=1.0.1 in c:\\programdata\\anaconda3\\lib\\site-packages (from matplotlib>=3.0->lifelines) (1.4.4)\n",
      "Requirement already satisfied: packaging>=20.0 in c:\\programdata\\anaconda3\\lib\\site-packages (from matplotlib>=3.0->lifelines) (23.1)\n",
      "Requirement already satisfied: pillow>=6.2.0 in c:\\programdata\\anaconda3\\lib\\site-packages (from matplotlib>=3.0->lifelines) (10.2.0)\n",
      "Requirement already satisfied: pyparsing>=2.3.1 in c:\\programdata\\anaconda3\\lib\\site-packages (from matplotlib>=3.0->lifelines) (3.0.9)\n",
      "Requirement already satisfied: python-dateutil>=2.7 in c:\\programdata\\anaconda3\\lib\\site-packages (from matplotlib>=3.0->lifelines) (2.8.2)\n",
      "Requirement already satisfied: pytz>=2020.1 in c:\\programdata\\anaconda3\\lib\\site-packages (from pandas>=1.2.0->lifelines) (2023.3.post1)\n",
      "Requirement already satisfied: tzdata>=2022.1 in c:\\programdata\\anaconda3\\lib\\site-packages (from pandas>=1.2.0->lifelines) (2023.3)\n",
      "Requirement already satisfied: six>=1.5 in c:\\programdata\\anaconda3\\lib\\site-packages (from python-dateutil>=2.7->matplotlib>=3.0->lifelines) (1.16.0)\n"
     ]
    }
   ],
   "source": [
    "# need to first install lifelines\n",
    "\n",
    "!pip install lifelines"
   ]
  },
  {
   "cell_type": "code",
   "execution_count": null,
   "id": "21322ec9-306b-485a-8b4c-ee029ebb67ec",
   "metadata": {},
   "outputs": [],
   "source": []
  },
  {
   "cell_type": "code",
   "execution_count": 18,
   "id": "5bebe9a4-eefa-4292-8ac2-abc0b053b965",
   "metadata": {},
   "outputs": [
    {
     "data": {
      "image/png": "[encoded data removed]",
      "text/plain": [
       "<Figure size 1000x700 with 1 Axes>"
      ]
     },
     "metadata": {},
     "output_type": "display_data"
    }
   ],
   "source": [
    "\n",
    "from lifelines import KaplanMeierFitter\n",
    "import matplotlib.pyplot as plt\n",
    "\n",
    "# Create KaplanMeierFitter object\n",
    "kmf = KaplanMeierFitter()\n",
    "\n",
    "Tenure_tolist = df.Tenure.tolist()\n",
    "Exited_tolist = df.Exited.tolist()\n",
    "\n",
    "# Fit the model\n",
    "kmf.fit(Tenure_tolist, Exited_tolist)\n",
    "\n",
    "# Plot the Kaplan-Meier curve\n",
    "kmf.plot()\n",
    "plt.title('Kaplan-Meier Curve')\n",
    "plt.xlabel('Tenure with HBS')\n",
    "plt.ylabel('Survival Probability')\n",
    "plt.show()\n"
   ]
  },
  {
   "cell_type": "code",
   "execution_count": null,
   "id": "faa344c9-2fe9-4b2a-8d47-4465fadc2c78",
   "metadata": {},
   "outputs": [],
   "source": []
  },
  {
   "cell_type": "markdown",
   "id": "d3c0b0f2-b4f8-45a8-981e-ba5bfbe6f082",
   "metadata": {},
   "source": [
    "### To identify survival probability of entire population based on account type(covariate)"
   ]
  },
  {
   "cell_type": "code",
   "execution_count": 19,
   "id": "2422cc0b-90cf-4b78-9ddf-ff1bd22b46e9",
   "metadata": {},
   "outputs": [
    {
     "data": {
      "text/plain": [
       "NumOfProducts\n",
       "Savings Account     56694\n",
       "Checking Account    22991\n",
       "Credit Card          1711\n",
       "Loan Product          368\n",
       "Name: count, dtype: int64"
      ]
     },
     "execution_count": 19,
     "metadata": {},
     "output_type": "execute_result"
    }
   ],
   "source": [
    "# Checking for number of products at HBS bank\n",
    "df['NumOfProducts'].value_counts()"
   ]
  },
  {
   "cell_type": "code",
   "execution_count": 20,
   "id": "8dd2b982-5d5e-4951-bf01-c7d562e2d292",
   "metadata": {},
   "outputs": [
    {
     "data": {
      "image/png": "[encoded data removed]",
      "text/plain": [
       "<Figure size 1000x700 with 1 Axes>"
      ]
     },
     "metadata": {},
     "output_type": "display_data"
    }
   ],
   "source": [
    "from lifelines import KaplanMeierFitter\n",
    "import matplotlib.pyplot as plt\n",
    "\n",
    "# Create KaplanMeierFitter object\n",
    "kmf = KaplanMeierFitter()\n",
    "\n",
    "T = df['Tenure']   #time to event\n",
    "E = df['Exited']   #Event occurred\n",
    "\n",
    "# HBS Bank has 4 types of products, we will create our cohorts from these 4 groups:\n",
    "\n",
    "groups = df['NumOfProducts']    #Creating the cohorts from the 'NumOfProducts' column\n",
    "\n",
    "ix1 = (groups == 'Savings Account')  #Cohort 1\n",
    "ix2 = (groups == 'Checking Account')  #Cohort 2\n",
    "ix3 = (groups == 'Credit Card')  #Cohort 3\n",
    "ix4 = (groups == 'Loan Product')  #Cohort 4\n",
    "\n",
    "\n",
    "kmf.fit(T[ix1], E[ix1], label='Savings Account')   #Fitting the cohort 1 data\n",
    "ax = kmf.plot()\n",
    "\n",
    "\n",
    "kmf.fit(T[ix2], E[ix2], label='Checking Account')   #Fitting the cohort 2 data\n",
    "ax1 = kmf.plot(ax=ax)\n",
    "\n",
    "\n",
    "kmf.fit(T[ix3], E[ix3], label='Credit Card')   #Fitting the cohort 3 data\n",
    "ax2 = kmf.plot(ax=ax1)\n",
    "\n",
    "\n",
    "kmf.fit(T[ix4], E[ix4], label='Loan Product')   #Fitting the cohort 4 data\n",
    "ax3 = kmf.plot(ax=ax2)                          ## plotting the KM curve for the 4 cohorts on the same x and y axis\n",
    "\n",
    "\n",
    "plt.title('Kaplan-Meier Curve based on HBS Bank Account type')\n",
    "plt.xlabel('Tenure with HBS')\n",
    "plt.ylabel('Survival Probability')\n",
    "plt.show()\n",
    "\n",
    "\n",
    "\n"
   ]
  },
  {
   "cell_type": "code",
   "execution_count": null,
   "id": "28304810-b878-475f-ad1a-04ac9562afe2",
   "metadata": {},
   "outputs": [],
   "source": []
  },
  {
   "cell_type": "code",
   "execution_count": null,
   "id": "957ad6f8-7d64-45c9-b8d8-b26c4ba4bbc9",
   "metadata": {},
   "outputs": [],
   "source": []
  },
  {
   "cell_type": "markdown",
   "id": "4b4598d1-9a4d-4616-a965-e00cea334752",
   "metadata": {},
   "source": [
    "### To identify what variables are statistically significant in predicting customer churn using a cox proportional hazards model."
   ]
  },
  {
   "cell_type": "code",
   "execution_count": 21,
   "id": "91f185c2-994c-44d1-b7b0-8caedb44aa9d",
   "metadata": {},
   "outputs": [
    {
     "data": {
      "text/html": [
       "<div>\n",
       "<style scoped>\n",
       "    .dataframe tbody tr th:only-of-type {\n",
       "        vertical-align: middle;\n",
       "    }\n",
       "\n",
       "    .dataframe tbody tr th {\n",
       "        vertical-align: top;\n",
       "    }\n",
       "\n",
       "    .dataframe thead th {\n",
       "        text-align: right;\n",
       "    }\n",
       "</style>\n",
       "<table border=\"1\" class=\"dataframe\">\n",
       "  <thead>\n",
       "    <tr style=\"text-align: right;\">\n",
       "      <th></th>\n",
       "      <th>Checking Account</th>\n",
       "      <th>Credit Card</th>\n",
       "      <th>Loan Product</th>\n",
       "      <th>Savings Account</th>\n",
       "    </tr>\n",
       "  </thead>\n",
       "  <tbody>\n",
       "    <tr>\n",
       "      <th>0</th>\n",
       "      <td>0</td>\n",
       "      <td>0</td>\n",
       "      <td>0</td>\n",
       "      <td>1</td>\n",
       "    </tr>\n",
       "    <tr>\n",
       "      <th>1</th>\n",
       "      <td>0</td>\n",
       "      <td>0</td>\n",
       "      <td>0</td>\n",
       "      <td>1</td>\n",
       "    </tr>\n",
       "    <tr>\n",
       "      <th>2</th>\n",
       "      <td>0</td>\n",
       "      <td>0</td>\n",
       "      <td>0</td>\n",
       "      <td>1</td>\n",
       "    </tr>\n",
       "    <tr>\n",
       "      <th>3</th>\n",
       "      <td>0</td>\n",
       "      <td>0</td>\n",
       "      <td>0</td>\n",
       "      <td>1</td>\n",
       "    </tr>\n",
       "    <tr>\n",
       "      <th>4</th>\n",
       "      <td>0</td>\n",
       "      <td>0</td>\n",
       "      <td>0</td>\n",
       "      <td>1</td>\n",
       "    </tr>\n",
       "    <tr>\n",
       "      <th>...</th>\n",
       "      <td>...</td>\n",
       "      <td>...</td>\n",
       "      <td>...</td>\n",
       "      <td>...</td>\n",
       "    </tr>\n",
       "    <tr>\n",
       "      <th>81759</th>\n",
       "      <td>1</td>\n",
       "      <td>0</td>\n",
       "      <td>0</td>\n",
       "      <td>0</td>\n",
       "    </tr>\n",
       "    <tr>\n",
       "      <th>81760</th>\n",
       "      <td>0</td>\n",
       "      <td>0</td>\n",
       "      <td>0</td>\n",
       "      <td>1</td>\n",
       "    </tr>\n",
       "    <tr>\n",
       "      <th>81761</th>\n",
       "      <td>0</td>\n",
       "      <td>0</td>\n",
       "      <td>0</td>\n",
       "      <td>1</td>\n",
       "    </tr>\n",
       "    <tr>\n",
       "      <th>81762</th>\n",
       "      <td>0</td>\n",
       "      <td>0</td>\n",
       "      <td>0</td>\n",
       "      <td>1</td>\n",
       "    </tr>\n",
       "    <tr>\n",
       "      <th>81763</th>\n",
       "      <td>0</td>\n",
       "      <td>0</td>\n",
       "      <td>0</td>\n",
       "      <td>1</td>\n",
       "    </tr>\n",
       "  </tbody>\n",
       "</table>\n",
       "<p>81764 rows × 4 columns</p>\n",
       "</div>"
      ],
      "text/plain": [
       "       Checking Account  Credit Card  Loan Product  Savings Account\n",
       "0                     0            0             0                1\n",
       "1                     0            0             0                1\n",
       "2                     0            0             0                1\n",
       "3                     0            0             0                1\n",
       "4                     0            0             0                1\n",
       "...                 ...          ...           ...              ...\n",
       "81759                 1            0             0                0\n",
       "81760                 0            0             0                1\n",
       "81761                 0            0             0                1\n",
       "81762                 0            0             0                1\n",
       "81763                 0            0             0                1\n",
       "\n",
       "[81764 rows x 4 columns]"
      ]
     },
     "execution_count": 21,
     "metadata": {},
     "output_type": "execute_result"
    }
   ],
   "source": [
    "# We need to convert the NumOfProducts dtype to numerical by encoding:\n",
    "\n",
    "# Creating our one-hot encoding using (pandas.get_dummies)\n",
    "\n",
    "dummy = pd.get_dummies(df['NumOfProducts'], dtype=int)\n",
    "dummy"
   ]
  },
  {
   "cell_type": "code",
   "execution_count": 22,
   "id": "3e74972f-7300-4db4-bc89-95a7a839828d",
   "metadata": {},
   "outputs": [
    {
     "data": {
      "text/html": [
       "<div>\n",
       "<style scoped>\n",
       "    .dataframe tbody tr th:only-of-type {\n",
       "        vertical-align: middle;\n",
       "    }\n",
       "\n",
       "    .dataframe tbody tr th {\n",
       "        vertical-align: top;\n",
       "    }\n",
       "\n",
       "    .dataframe thead th {\n",
       "        text-align: right;\n",
       "    }\n",
       "</style>\n",
       "<table border=\"1\" class=\"dataframe\">\n",
       "  <thead>\n",
       "    <tr style=\"text-align: right;\">\n",
       "      <th></th>\n",
       "      <th>CreditScore</th>\n",
       "      <th>Age</th>\n",
       "      <th>Tenure</th>\n",
       "      <th>Balance</th>\n",
       "      <th>HasCrCard</th>\n",
       "      <th>EstimatedSalary</th>\n",
       "      <th>Exited</th>\n",
       "      <th>France</th>\n",
       "      <th>Germany</th>\n",
       "      <th>Spain</th>\n",
       "      <th>Sex</th>\n",
       "      <th>Checking Account</th>\n",
       "      <th>Credit Card</th>\n",
       "      <th>Loan Product</th>\n",
       "      <th>Savings Account</th>\n",
       "    </tr>\n",
       "  </thead>\n",
       "  <tbody>\n",
       "    <tr>\n",
       "      <th>0</th>\n",
       "      <td>581</td>\n",
       "      <td>34.0</td>\n",
       "      <td>2</td>\n",
       "      <td>148882.54</td>\n",
       "      <td>1</td>\n",
       "      <td>84560.88</td>\n",
       "      <td>0</td>\n",
       "      <td>1</td>\n",
       "      <td>0</td>\n",
       "      <td>0</td>\n",
       "      <td>0</td>\n",
       "      <td>0</td>\n",
       "      <td>0</td>\n",
       "      <td>0</td>\n",
       "      <td>1</td>\n",
       "    </tr>\n",
       "    <tr>\n",
       "      <th>1</th>\n",
       "      <td>588</td>\n",
       "      <td>36.0</td>\n",
       "      <td>4</td>\n",
       "      <td>131778.58</td>\n",
       "      <td>1</td>\n",
       "      <td>136024.31</td>\n",
       "      <td>1</td>\n",
       "      <td>0</td>\n",
       "      <td>1</td>\n",
       "      <td>0</td>\n",
       "      <td>0</td>\n",
       "      <td>0</td>\n",
       "      <td>0</td>\n",
       "      <td>0</td>\n",
       "      <td>1</td>\n",
       "    </tr>\n",
       "    <tr>\n",
       "      <th>2</th>\n",
       "      <td>593</td>\n",
       "      <td>30.0</td>\n",
       "      <td>8</td>\n",
       "      <td>144772.69</td>\n",
       "      <td>1</td>\n",
       "      <td>29792.11</td>\n",
       "      <td>0</td>\n",
       "      <td>1</td>\n",
       "      <td>0</td>\n",
       "      <td>0</td>\n",
       "      <td>1</td>\n",
       "      <td>0</td>\n",
       "      <td>0</td>\n",
       "      <td>0</td>\n",
       "      <td>1</td>\n",
       "    </tr>\n",
       "    <tr>\n",
       "      <th>3</th>\n",
       "      <td>678</td>\n",
       "      <td>37.0</td>\n",
       "      <td>1</td>\n",
       "      <td>138476.41</td>\n",
       "      <td>1</td>\n",
       "      <td>106851.60</td>\n",
       "      <td>0</td>\n",
       "      <td>0</td>\n",
       "      <td>0</td>\n",
       "      <td>1</td>\n",
       "      <td>0</td>\n",
       "      <td>0</td>\n",
       "      <td>0</td>\n",
       "      <td>0</td>\n",
       "      <td>1</td>\n",
       "    </tr>\n",
       "    <tr>\n",
       "      <th>4</th>\n",
       "      <td>583</td>\n",
       "      <td>40.0</td>\n",
       "      <td>4</td>\n",
       "      <td>81274.33</td>\n",
       "      <td>1</td>\n",
       "      <td>170843.07</td>\n",
       "      <td>0</td>\n",
       "      <td>0</td>\n",
       "      <td>1</td>\n",
       "      <td>0</td>\n",
       "      <td>0</td>\n",
       "      <td>0</td>\n",
       "      <td>0</td>\n",
       "      <td>0</td>\n",
       "      <td>1</td>\n",
       "    </tr>\n",
       "  </tbody>\n",
       "</table>\n",
       "</div>"
      ],
      "text/plain": [
       "   CreditScore   Age  Tenure    Balance  HasCrCard  EstimatedSalary  Exited  \\\n",
       "0          581  34.0       2  148882.54          1         84560.88       0   \n",
       "1          588  36.0       4  131778.58          1        136024.31       1   \n",
       "2          593  30.0       8  144772.69          1         29792.11       0   \n",
       "3          678  37.0       1  138476.41          1        106851.60       0   \n",
       "4          583  40.0       4   81274.33          1        170843.07       0   \n",
       "\n",
       "   France  Germany  Spain  Sex  Checking Account  Credit Card  Loan Product  \\\n",
       "0       1        0      0    0                 0            0             0   \n",
       "1       0        1      0    0                 0            0             0   \n",
       "2       1        0      0    1                 0            0             0   \n",
       "3       0        0      1    0                 0            0             0   \n",
       "4       0        1      0    0                 0            0             0   \n",
       "\n",
       "   Savings Account  \n",
       "0                1  \n",
       "1                1  \n",
       "2                1  \n",
       "3                1  \n",
       "4                1  "
      ]
     },
     "execution_count": 22,
     "metadata": {},
     "output_type": "execute_result"
    }
   ],
   "source": [
    "# join the above encoded NumOfProducts df to the original dataframe-we use a pd.concat() function.\n",
    "\n",
    "df = pd.concat([df, dummy], axis=1)\n",
    "\n",
    "\n",
    "# Dropping the NumOfProducts column\n",
    "df = df.drop('NumOfProducts', axis=1)\n",
    "\n",
    "df.head()"
   ]
  },
  {
   "cell_type": "code",
   "execution_count": 23,
   "id": "996a36e9-4870-4117-9043-4ef6bf5fba79",
   "metadata": {
    "scrolled": true
   },
   "outputs": [
    {
     "name": "stdout",
     "output_type": "stream",
     "text": [
      "Iteration 1: norm_delta = 5.86e-01, step_size = 0.9500, log_lik = -230055.79235, newton_decrement = 6.25e+03, seconds_since_start = 0.4\n",
      "Iteration 2: norm_delta = 9.18e-02, step_size = 0.9500, log_lik = -224967.32159, newton_decrement = 4.89e+02, seconds_since_start = 0.5\n",
      "Iteration 3: norm_delta = 2.54e-02, step_size = 0.9500, log_lik = -224433.99274, newton_decrement = 2.79e+01, seconds_since_start = 1.0\n",
      "Iteration 4: norm_delta = 1.75e-03, step_size = 1.0000, log_lik = -224404.91930, newton_decrement = 1.16e-01, seconds_since_start = 1.1\n",
      "Iteration 5: norm_delta = 8.03e-06, step_size = 1.0000, log_lik = -224404.80257, newton_decrement = 2.44e-06, seconds_since_start = 1.5\n",
      "Iteration 6: norm_delta = 1.77e-10, step_size = 1.0000, log_lik = -224404.80256, newton_decrement = 1.19e-15, seconds_since_start = 1.6\n",
      "Convergence success after 6 iterations.\n",
      "                          coef  exp(coef)      se(coef)  coef lower 95%  \\\n",
      "covariate                                                                 \n",
      "CreditScore      -3.447444e-04   0.999655  6.939105e-05   -4.807484e-04   \n",
      "Age               3.580890e-02   1.036458  5.676012e-04    3.469642e-02   \n",
      "Balance           2.659475e-07   1.000000  2.333816e-07   -1.914720e-07   \n",
      "HasCrCard        -4.486329e-02   0.956128  1.304701e-02   -7.043496e-02   \n",
      "EstimatedSalary   4.190456e-07   1.000000  1.134779e-07    1.966330e-07   \n",
      "France           -2.673271e-01   0.765423  1.639616e-02   -2.994630e-01   \n",
      "Germany           3.638945e-01   1.438922  1.595160e-02    3.326300e-01   \n",
      "Spain            -1.981045e-01   0.820284  1.968606e-02   -2.366885e-01   \n",
      "Sex               3.025080e-01   1.353248  1.160064e-02    2.797712e-01   \n",
      "Checking Account -4.079164e-01   0.665034  1.878220e-02   -4.447288e-01   \n",
      "Credit Card       1.062519e+00   2.893651  3.039126e-02    1.002953e+00   \n",
      "Loan Product      9.730547e-01   2.646015  5.725908e-02    8.608289e-01   \n",
      "Savings Account   2.649064e-01   1.303309  1.839028e-02    2.288622e-01   \n",
      "\n",
      "                  coef upper 95%  exp(coef) lower 95%  exp(coef) upper 95%  \\\n",
      "covariate                                                                    \n",
      "CreditScore        -2.087404e-04             0.999519             0.999791   \n",
      "Age                 3.692138e-02             1.035305             1.037611   \n",
      "Balance             7.233670e-07             1.000000             1.000001   \n",
      "HasCrCard          -1.929162e-02             0.931988             0.980893   \n",
      "EstimatedSalary     6.414582e-07             1.000000             1.000001   \n",
      "France             -2.351912e-01             0.741216             0.790420   \n",
      "Germany             3.951591e-01             1.394631             1.484620   \n",
      "Spain              -1.595205e-01             0.789237             0.852552   \n",
      "Sex                 3.252448e-01             1.322827             1.384370   \n",
      "Checking Account   -3.711039e-01             0.640998             0.689972   \n",
      "Credit Card         1.122085e+00             2.726322             3.071251   \n",
      "Loan Product        1.085280e+00             2.365120             2.960270   \n",
      "Savings Account     3.009507e-01             1.257169             1.351143   \n",
      "\n",
      "                  cmp to          z              p    -log2(p)  \n",
      "covariate                                                       \n",
      "CreditScore          0.0  -4.968139   6.759848e-07   20.496506  \n",
      "Age                  0.0  63.088132   0.000000e+00         inf  \n",
      "Balance              0.0   1.139539   2.544782e-01    1.974386  \n",
      "HasCrCard            0.0  -3.438587   5.847575e-04   10.739874  \n",
      "EstimatedSalary      0.0   3.692750   2.218420e-04   12.138180  \n",
      "France               0.0 -16.304247   9.206676e-60  196.113005  \n",
      "Germany              0.0  22.812422  3.452112e-115  380.234252  \n",
      "Spain                0.0 -10.063185   8.035579e-24   76.719872  \n",
      "Sex                  0.0  26.076844  6.676351e-150  495.550154  \n",
      "Checking Account     0.0 -21.718247  1.379425e-104  345.016455  \n",
      "Credit Card          0.0  34.961339  8.708815e-268  887.154253  \n",
      "Loan Product         0.0  16.993892   9.113689e-65  212.737291  \n",
      "Savings Account      0.0  14.404700   4.834096e-47  153.857374  \n"
     ]
    }
   ],
   "source": [
    "from lifelines import CoxPHFitter\n",
    "\n",
    "\n",
    "\n",
    "\n",
    "# Fit a Cox Proportional Hazards model\n",
    "cph = CoxPHFitter(penalizer=0.1)\n",
    "cph.fit(df, 'Tenure', 'Exited', show_progress=True)\n",
    "\n",
    "# Assess variable significance\n",
    "# Display summary statistics including p-values and confidence intervals\n",
    "print(cph.summary)\n"
   ]
  },
  {
   "cell_type": "code",
   "execution_count": null,
   "id": "ea8a779e-93c6-45b6-abc6-9d036c52601d",
   "metadata": {},
   "outputs": [],
   "source": []
  },
  {
   "cell_type": "markdown",
   "id": "37daf59f-d5b4-489f-bc43-3d550d3718a8",
   "metadata": {},
   "source": [
    "### Detailed explanation of the Cox regression model summary"
   ]
  },
  {
   "cell_type": "markdown",
   "id": "7199a6b2-b2c9-49c8-a059-6caa5e73774a",
   "metadata": {},
   "source": [
    "#### 1. Coefficients (Beta Estimates)\n",
    "These are the estimated coefficients for each predictor variable in the model. Each coefficient represents the log hazard ratio for a one-unit increase in the predictor variable.\n",
    "\n",
    "Interpretation: If the coefficient is positive, the hazard (or risk of the event occurring) increases with the predictor. If negative, the hazard decreases with the predictor.\n",
    "In essence, churn rate increases with Age, Balance, Estimated salary, Germany, Sex, Credit card, Loan product and savings account since they are all positive.\n",
    "\n",
    "\n",
    "#### 2. Hazard Ratios (exp(Beta))\n",
    "The hazard ratio (HR) is the exponentiation of the coefficients. It provides a more interpretable measure of the effect of the predictor variables.\n",
    "\n",
    "Interpretation: An HR greater than 1 indicates an increased hazard (or risk), while an HR less than 1 indicates a decreased hazard.\n",
    "\n",
    "In essence, churn rate increases with Age, Balance, Estimated salary, Germany, Sex, Credit card, Loan product and savings account since they are all greater than 1\n",
    "\n",
    "#### 3. Standard Errors (SE)\n",
    "These are the standard errors of the estimated coefficients. They measure the variability or uncertainty in the coefficient estimates.\n",
    "\n",
    "#### 4. z-values (or Wald Statistics)\n",
    "These are the test statistics for each coefficient, calculated as the coefficient divided by its standard error. They follow a standard normal distribution under the null hypothesis that the coefficient is zero.\n",
    "\n",
    "Interpretation: A large absolute value of the z-value suggests that the corresponding coefficient is significantly different from zero.\n",
    "\n",
    "In essence, churn rate increases with Age, Balance, Estimated salary, Germany, Sex, Credit card, Loan product and savings account since they all have large absolute value greater than 0.\n",
    "\n",
    "#### 5. p-values\n",
    "The p-values assess the statistical significance of each predictor. They indicate the probability of observing the data if the null hypothesis (that the coefficient is zero) is true.\n",
    "\n",
    "Interpretation: A small p-value (typically < 0.05) suggests that the predictor is significantly associated with the survival outcome.\n",
    "\n",
    "#### 6. -log2(p):\n",
    "The -log2(p) in the cph.summary table provides a convenient way to interpret the significance of predictor variables in the Cox Proportional Hazards model. Larger values indicate more significant predictors. So, this indicates that credit Card, Loan Product, Germany, Sex, Savings account has more siginificance in prediction than other features.\n",
    "\n",
    "\n",
    "In summary, looking at majority of these metrics and the visual below which is based on the log of hazard ratio (HR), the churn hazard increases with the predictor as ranked from top to bottom on the y-axis."
   ]
  },
  {
   "cell_type": "code",
   "execution_count": null,
   "id": "da02ee82-32fd-43e9-aa02-011b23658ff1",
   "metadata": {},
   "outputs": [],
   "source": []
  },
  {
   "cell_type": "code",
   "execution_count": 24,
   "id": "711eb179-5898-461f-bf1b-be9c54ad4a25",
   "metadata": {},
   "outputs": [
    {
     "data": {
      "text/plain": [
       "<Axes: xlabel='log(HR) (95% CI)'>"
      ]
     },
     "execution_count": 24,
     "metadata": {},
     "output_type": "execute_result"
    },
    {
     "data": {
      "image/png": "[encoded data removed]",
      "text/plain": [
       "<Figure size 1000x700 with 1 Axes>"
      ]
     },
     "metadata": {},
     "output_type": "display_data"
    }
   ],
   "source": [
    "# Visualizing this, we can see the features with more significance in our prediction\n",
    "\n",
    "cph.plot()"
   ]
  },
  {
   "cell_type": "code",
   "execution_count": null,
   "id": "6eff9a38-a33a-4699-9bc4-9108d713822a",
   "metadata": {},
   "outputs": [],
   "source": []
  },
  {
   "cell_type": "code",
   "execution_count": null,
   "id": "64f46b9c-313c-47e9-9d40-38c736d89a44",
   "metadata": {},
   "outputs": [],
   "source": []
  },
  {
   "cell_type": "markdown",
   "id": "4ba9a323-9879-462a-8863-a91416aa1706",
   "metadata": {},
   "source": [
    "## Preparing our model"
   ]
  },
  {
   "cell_type": "code",
   "execution_count": 25,
   "id": "8b3179a4-f3aa-4024-b92d-c7cb3d4603cd",
   "metadata": {},
   "outputs": [],
   "source": [
    "# Libraries needed:\n",
    "from sklearn.linear_model import LogisticRegression\n",
    "from sklearn.preprocessing import StandardScaler\n",
    "from sklearn.model_selection import train_test_split\n",
    "from sklearn.metrics import accuracy_score, roc_auc_score, confusion_matrix, precision_score, recall_score, classification_report\n"
   ]
  },
  {
   "cell_type": "code",
   "execution_count": 26,
   "id": "b28313ae-749f-456f-810f-ac0bdb2993e5",
   "metadata": {},
   "outputs": [
    {
     "data": {
      "text/html": [
       "<div>\n",
       "<style scoped>\n",
       "    .dataframe tbody tr th:only-of-type {\n",
       "        vertical-align: middle;\n",
       "    }\n",
       "\n",
       "    .dataframe tbody tr th {\n",
       "        vertical-align: top;\n",
       "    }\n",
       "\n",
       "    .dataframe thead th {\n",
       "        text-align: right;\n",
       "    }\n",
       "</style>\n",
       "<table border=\"1\" class=\"dataframe\">\n",
       "  <thead>\n",
       "    <tr style=\"text-align: right;\">\n",
       "      <th></th>\n",
       "      <th>CreditScore</th>\n",
       "      <th>Age</th>\n",
       "      <th>Tenure</th>\n",
       "      <th>Balance</th>\n",
       "      <th>HasCrCard</th>\n",
       "      <th>EstimatedSalary</th>\n",
       "      <th>France</th>\n",
       "      <th>Germany</th>\n",
       "      <th>Spain</th>\n",
       "      <th>Sex</th>\n",
       "      <th>Checking Account</th>\n",
       "      <th>Credit Card</th>\n",
       "      <th>Loan Product</th>\n",
       "      <th>Savings Account</th>\n",
       "    </tr>\n",
       "  </thead>\n",
       "  <tbody>\n",
       "    <tr>\n",
       "      <th>0</th>\n",
       "      <td>581</td>\n",
       "      <td>34.0</td>\n",
       "      <td>2</td>\n",
       "      <td>148882.54</td>\n",
       "      <td>1</td>\n",
       "      <td>84560.88</td>\n",
       "      <td>1</td>\n",
       "      <td>0</td>\n",
       "      <td>0</td>\n",
       "      <td>0</td>\n",
       "      <td>0</td>\n",
       "      <td>0</td>\n",
       "      <td>0</td>\n",
       "      <td>1</td>\n",
       "    </tr>\n",
       "    <tr>\n",
       "      <th>1</th>\n",
       "      <td>588</td>\n",
       "      <td>36.0</td>\n",
       "      <td>4</td>\n",
       "      <td>131778.58</td>\n",
       "      <td>1</td>\n",
       "      <td>136024.31</td>\n",
       "      <td>0</td>\n",
       "      <td>1</td>\n",
       "      <td>0</td>\n",
       "      <td>0</td>\n",
       "      <td>0</td>\n",
       "      <td>0</td>\n",
       "      <td>0</td>\n",
       "      <td>1</td>\n",
       "    </tr>\n",
       "    <tr>\n",
       "      <th>2</th>\n",
       "      <td>593</td>\n",
       "      <td>30.0</td>\n",
       "      <td>8</td>\n",
       "      <td>144772.69</td>\n",
       "      <td>1</td>\n",
       "      <td>29792.11</td>\n",
       "      <td>1</td>\n",
       "      <td>0</td>\n",
       "      <td>0</td>\n",
       "      <td>1</td>\n",
       "      <td>0</td>\n",
       "      <td>0</td>\n",
       "      <td>0</td>\n",
       "      <td>1</td>\n",
       "    </tr>\n",
       "    <tr>\n",
       "      <th>3</th>\n",
       "      <td>678</td>\n",
       "      <td>37.0</td>\n",
       "      <td>1</td>\n",
       "      <td>138476.41</td>\n",
       "      <td>1</td>\n",
       "      <td>106851.60</td>\n",
       "      <td>0</td>\n",
       "      <td>0</td>\n",
       "      <td>1</td>\n",
       "      <td>0</td>\n",
       "      <td>0</td>\n",
       "      <td>0</td>\n",
       "      <td>0</td>\n",
       "      <td>1</td>\n",
       "    </tr>\n",
       "    <tr>\n",
       "      <th>4</th>\n",
       "      <td>583</td>\n",
       "      <td>40.0</td>\n",
       "      <td>4</td>\n",
       "      <td>81274.33</td>\n",
       "      <td>1</td>\n",
       "      <td>170843.07</td>\n",
       "      <td>0</td>\n",
       "      <td>1</td>\n",
       "      <td>0</td>\n",
       "      <td>0</td>\n",
       "      <td>0</td>\n",
       "      <td>0</td>\n",
       "      <td>0</td>\n",
       "      <td>1</td>\n",
       "    </tr>\n",
       "  </tbody>\n",
       "</table>\n",
       "</div>"
      ],
      "text/plain": [
       "   CreditScore   Age  Tenure    Balance  HasCrCard  EstimatedSalary  France  \\\n",
       "0          581  34.0       2  148882.54          1         84560.88       1   \n",
       "1          588  36.0       4  131778.58          1        136024.31       0   \n",
       "2          593  30.0       8  144772.69          1         29792.11       1   \n",
       "3          678  37.0       1  138476.41          1        106851.60       0   \n",
       "4          583  40.0       4   81274.33          1        170843.07       0   \n",
       "\n",
       "   Germany  Spain  Sex  Checking Account  Credit Card  Loan Product  \\\n",
       "0        0      0    0                 0            0             0   \n",
       "1        1      0    0                 0            0             0   \n",
       "2        0      0    1                 0            0             0   \n",
       "3        0      1    0                 0            0             0   \n",
       "4        1      0    0                 0            0             0   \n",
       "\n",
       "   Savings Account  \n",
       "0                1  \n",
       "1                1  \n",
       "2                1  \n",
       "3                1  \n",
       "4                1  "
      ]
     },
     "execution_count": 26,
     "metadata": {},
     "output_type": "execute_result"
    }
   ],
   "source": [
    "# Setting our target variable and independent variable\n",
    "\n",
    "X = df.drop(columns = ['Exited'], axis = 1)\n",
    "y = df['Exited']\n",
    "\n",
    "X.head()"
   ]
  },
  {
   "cell_type": "code",
   "execution_count": null,
   "id": "040f639e-7040-4d21-b915-8493092de367",
   "metadata": {},
   "outputs": [],
   "source": []
  },
  {
   "cell_type": "code",
   "execution_count": 27,
   "id": "01572d09-1d24-432a-bafd-b7cc478c7c7d",
   "metadata": {},
   "outputs": [
    {
     "data": {
      "text/plain": [
       "0    0\n",
       "1    1\n",
       "2    0\n",
       "3    0\n",
       "4    0\n",
       "Name: Exited, dtype: int64"
      ]
     },
     "execution_count": 27,
     "metadata": {},
     "output_type": "execute_result"
    }
   ],
   "source": [
    "y[:5]"
   ]
  },
  {
   "cell_type": "code",
   "execution_count": 28,
   "id": "f1af5739-492c-4a99-bea5-18ead79f3541",
   "metadata": {},
   "outputs": [],
   "source": [
    "# The diff between the min value and max value in our dataset is wide so we need to scale our dataset:\n",
    "\n",
    "\n",
    "# Initialize StandardScaler\n",
    "scaler = StandardScaler()\n",
    "\n",
    "# Fit and transform the data\n",
    "scaled_data = scaler.fit_transform(X)\n",
    "\n",
    "# Create a DataFrame with the scaled data\n",
    "X_scaled = pd.DataFrame(scaled_data, columns=X.columns)"
   ]
  },
  {
   "cell_type": "code",
   "execution_count": null,
   "id": "fb1d8487-4c83-4273-9eca-0a2391879072",
   "metadata": {},
   "outputs": [],
   "source": []
  },
  {
   "cell_type": "code",
   "execution_count": 29,
   "id": "cceb691c-4b26-4398-bfd8-c05273692597",
   "metadata": {},
   "outputs": [],
   "source": [
    "\n",
    "\n",
    "\n",
    "X_train, X_test, y_train, y_test = train_test_split(X_scaled, \n",
    "                                                    y, \n",
    "                                                    test_size=0.3)"
   ]
  },
  {
   "cell_type": "code",
   "execution_count": 30,
   "id": "f340fc16-ee63-4d75-b314-7daaf76390fe",
   "metadata": {},
   "outputs": [
    {
     "name": "stdout",
     "output_type": "stream",
     "text": [
      "Coefficient: \n",
      " [[-0.05889062  0.73004722 -0.04308237  0.00219937 -0.03905265  0.04713333\n",
      "  -0.24497815  0.34889636 -0.14791162  0.31115955 -0.38865117  0.51236527\n",
      "   0.22062949  0.18786603]]\n",
      "Intercept: \n",
      " [-1.26153067]\n"
     ]
    }
   ],
   "source": [
    "# Using the Logistic regression model:\n",
    "\n",
    "# Create logistic regression object\n",
    "model = LogisticRegression()\n",
    "\n",
    "# Train the model using the training sets and check score\n",
    "\n",
    "model.fit(X_train,y_train)\n",
    "model.score(X_train,y_train)\n",
    "\n",
    "# Equation coefficient and intercept\n",
    "\n",
    "print('Coefficient: \\n', model.coef_)\n",
    "print('Intercept: \\n', model.intercept_)\n",
    "\n"
   ]
  },
  {
   "cell_type": "code",
   "execution_count": 31,
   "id": "11a17465-dc8f-4cd4-9258-87c407c61327",
   "metadata": {},
   "outputs": [],
   "source": [
    "# Predict output\n",
    "\n",
    "y_pred = model.predict(X_test)"
   ]
  },
  {
   "cell_type": "code",
   "execution_count": null,
   "id": "7e7bae9c-ede7-4cb7-81ed-189370559484",
   "metadata": {},
   "outputs": [],
   "source": []
  },
  {
   "cell_type": "code",
   "execution_count": 32,
   "id": "96f8c8cf-7d16-4b9d-a757-6bd9e3429148",
   "metadata": {},
   "outputs": [
    {
     "name": "stdout",
     "output_type": "stream",
     "text": [
      "              precision    recall  f1-score   support\n",
      "\n",
      "Not Exited=0       0.81      0.93      0.87     17929\n",
      "    Exited=1       0.71      0.42      0.53      6601\n",
      "\n",
      "    accuracy                           0.80     24530\n",
      "   macro avg       0.76      0.68      0.70     24530\n",
      "weighted avg       0.79      0.80      0.78     24530\n",
      "\n"
     ]
    }
   ],
   "source": [
    "print(classification_report(y_test, y_pred, target_names=[\"Not Exited=0\", \"Exited=1\"]))"
   ]
  },
  {
   "cell_type": "code",
   "execution_count": 33,
   "id": "69342ba2-6faf-4f54-86fd-0bed61d68a13",
   "metadata": {},
   "outputs": [
    {
     "data": {
      "text/plain": [
       "Index(['CreditScore', 'Age', 'Tenure', 'Balance', 'HasCrCard',\n",
       "       'EstimatedSalary', 'France', 'Germany', 'Spain', 'Sex',\n",
       "       'Checking Account', 'Credit Card', 'Loan Product', 'Savings Account'],\n",
       "      dtype='object')"
      ]
     },
     "execution_count": 33,
     "metadata": {},
     "output_type": "execute_result"
    }
   ],
   "source": [
    "X.columns"
   ]
  },
  {
   "cell_type": "code",
   "execution_count": 36,
   "id": "abb9e0b3-64a0-4c7d-8432-76b6ae27ed2f",
   "metadata": {},
   "outputs": [
    {
     "data": {
      "text/html": [
       "<div>\n",
       "<style scoped>\n",
       "    .dataframe tbody tr th:only-of-type {\n",
       "        vertical-align: middle;\n",
       "    }\n",
       "\n",
       "    .dataframe tbody tr th {\n",
       "        vertical-align: top;\n",
       "    }\n",
       "\n",
       "    .dataframe thead th {\n",
       "        text-align: right;\n",
       "    }\n",
       "</style>\n",
       "<table border=\"1\" class=\"dataframe\">\n",
       "  <thead>\n",
       "    <tr style=\"text-align: right;\">\n",
       "      <th></th>\n",
       "      <th>CreditScore</th>\n",
       "      <th>Age</th>\n",
       "      <th>Balance</th>\n",
       "      <th>EstimatedSalary</th>\n",
       "      <th>Germany</th>\n",
       "      <th>Sex</th>\n",
       "      <th>Credit Card</th>\n",
       "      <th>Loan Product</th>\n",
       "      <th>Savings Account</th>\n",
       "    </tr>\n",
       "  </thead>\n",
       "  <tbody>\n",
       "    <tr>\n",
       "      <th>0</th>\n",
       "      <td>581</td>\n",
       "      <td>34.0</td>\n",
       "      <td>148882.54</td>\n",
       "      <td>84560.88</td>\n",
       "      <td>0</td>\n",
       "      <td>0</td>\n",
       "      <td>0</td>\n",
       "      <td>0</td>\n",
       "      <td>1</td>\n",
       "    </tr>\n",
       "    <tr>\n",
       "      <th>1</th>\n",
       "      <td>588</td>\n",
       "      <td>36.0</td>\n",
       "      <td>131778.58</td>\n",
       "      <td>136024.31</td>\n",
       "      <td>1</td>\n",
       "      <td>0</td>\n",
       "      <td>0</td>\n",
       "      <td>0</td>\n",
       "      <td>1</td>\n",
       "    </tr>\n",
       "    <tr>\n",
       "      <th>2</th>\n",
       "      <td>593</td>\n",
       "      <td>30.0</td>\n",
       "      <td>144772.69</td>\n",
       "      <td>29792.11</td>\n",
       "      <td>0</td>\n",
       "      <td>1</td>\n",
       "      <td>0</td>\n",
       "      <td>0</td>\n",
       "      <td>1</td>\n",
       "    </tr>\n",
       "    <tr>\n",
       "      <th>3</th>\n",
       "      <td>678</td>\n",
       "      <td>37.0</td>\n",
       "      <td>138476.41</td>\n",
       "      <td>106851.60</td>\n",
       "      <td>0</td>\n",
       "      <td>0</td>\n",
       "      <td>0</td>\n",
       "      <td>0</td>\n",
       "      <td>1</td>\n",
       "    </tr>\n",
       "    <tr>\n",
       "      <th>4</th>\n",
       "      <td>583</td>\n",
       "      <td>40.0</td>\n",
       "      <td>81274.33</td>\n",
       "      <td>170843.07</td>\n",
       "      <td>1</td>\n",
       "      <td>0</td>\n",
       "      <td>0</td>\n",
       "      <td>0</td>\n",
       "      <td>1</td>\n",
       "    </tr>\n",
       "  </tbody>\n",
       "</table>\n",
       "</div>"
      ],
      "text/plain": [
       "   CreditScore   Age    Balance  EstimatedSalary  Germany  Sex  Credit Card  \\\n",
       "0          581  34.0  148882.54         84560.88        0    0            0   \n",
       "1          588  36.0  131778.58        136024.31        1    0            0   \n",
       "2          593  30.0  144772.69         29792.11        0    1            0   \n",
       "3          678  37.0  138476.41        106851.60        0    0            0   \n",
       "4          583  40.0   81274.33        170843.07        1    0            0   \n",
       "\n",
       "   Loan Product  Savings Account  \n",
       "0             0                1  \n",
       "1             0                1  \n",
       "2             0                1  \n",
       "3             0                1  \n",
       "4             0                1  "
      ]
     },
     "execution_count": 36,
     "metadata": {},
     "output_type": "execute_result"
    }
   ],
   "source": [
    "# Now, let's check our accurracy using the features that are statistically significant based on our cox proportional hazard model.\n",
    "\n",
    "# Starting by removing the features below the zero mark on the cox plot\n",
    "\n",
    "\n",
    "columns_to_drop = ['HasCrCard', 'Spain', 'Checking Account', 'France', 'Tenure', 'Exited']\n",
    "X1 = df.drop(columns_to_drop, axis = 1)\n",
    "y1 = df['Exited']\n",
    "\n",
    "X1.head()\n",
    "\n",
    "\n"
   ]
  },
  {
   "cell_type": "code",
   "execution_count": 37,
   "id": "ae791b18-77c1-4341-abb9-861a03fc5979",
   "metadata": {},
   "outputs": [],
   "source": [
    "# Scaling our dataset \n",
    "\n",
    "# Initialize StandardScaler\n",
    "scaler = StandardScaler()\n",
    "\n",
    "# Fit and transform the data\n",
    "scaled_data1 = scaler.fit_transform(X1)\n",
    "\n",
    "# Create a DataFrame with the scaled data\n",
    "X1_scaled = pd.DataFrame(scaled_data1, columns=X1.columns)"
   ]
  },
  {
   "cell_type": "code",
   "execution_count": 40,
   "id": "089046ad-959c-4445-87a2-a68e9a9d8495",
   "metadata": {},
   "outputs": [],
   "source": [
    "X1_train, X1_test, y1_train, y1_test = train_test_split(X1_scaled, \n",
    "                                                    y1, \n",
    "                                                    test_size=0.3)"
   ]
  },
  {
   "cell_type": "code",
   "execution_count": 41,
   "id": "e7788ded-a9ac-475a-bf4c-bd5ac3669f30",
   "metadata": {},
   "outputs": [
    {
     "name": "stdout",
     "output_type": "stream",
     "text": [
      "Coefficient: \n",
      " [[-0.07095873  0.72604209  0.01511185  0.0536842   0.58846656  0.31183624\n",
      "   0.6388641   0.26721919  0.59360106]]\n",
      "Intercept: \n",
      " [-1.25676895]\n",
      "              precision    recall  f1-score   support\n",
      "\n",
      "Not Exited=0       0.82      0.94      0.87     17975\n",
      "    Exited=1       0.71      0.42      0.53      6555\n",
      "\n",
      "    accuracy                           0.80     24530\n",
      "   macro avg       0.76      0.68      0.70     24530\n",
      "weighted avg       0.79      0.80      0.78     24530\n",
      "\n"
     ]
    }
   ],
   "source": [
    "# Using the Logistic regression model:\n",
    "\n",
    "# Create logistic regression object\n",
    "model = LogisticRegression()\n",
    "\n",
    "# Train the model using the training sets and check score\n",
    "\n",
    "model.fit(X1_train,y1_train)\n",
    "model.score(X1_train,y1_train)\n",
    "\n",
    "# Equation coefficient and intercept\n",
    "\n",
    "print('Coefficient: \\n', model.coef_)\n",
    "print('Intercept: \\n', model.intercept_)\n",
    "\n",
    "\n",
    "# Predict output\n",
    "\n",
    "y1_pred = model.predict(X1_test)\n",
    "\n",
    "\n",
    "print(classification_report(y1_test, y1_pred, target_names=[\"Not Exited=0\", \"Exited=1\"]))"
   ]
  },
  {
   "cell_type": "code",
   "execution_count": 35,
   "id": "60c6b6b2-7dd5-4499-9e13-07661211b6cf",
   "metadata": {},
   "outputs": [],
   "source": []
  },
  {
   "cell_type": "code",
   "execution_count": null,
   "id": "e4fb7540-91e2-4f4c-8eec-f9f9453c6327",
   "metadata": {},
   "outputs": [],
   "source": []
  },
  {
   "cell_type": "code",
   "execution_count": 36,
   "id": "68b7c74e-797a-41e3-9f8f-27a706995b80",
   "metadata": {},
   "outputs": [
    {
     "data": {
      "text/plain": [
       "Index(['CreditScore', 'Age', 'Balance', 'EstimatedSalary', 'Germany', 'Sex',\n",
       "       'Credit Card', 'Loan Product', 'Savings Account'],\n",
       "      dtype='object')"
      ]
     },
     "execution_count": 36,
     "metadata": {},
     "output_type": "execute_result"
    }
   ],
   "source": [
    "X1.columns"
   ]
  },
  {
   "cell_type": "code",
   "execution_count": 42,
   "id": "c3dd9d51-5e26-4fd8-b909-2767ada91420",
   "metadata": {},
   "outputs": [
    {
     "data": {
      "text/html": [
       "<div>\n",
       "<style scoped>\n",
       "    .dataframe tbody tr th:only-of-type {\n",
       "        vertical-align: middle;\n",
       "    }\n",
       "\n",
       "    .dataframe tbody tr th {\n",
       "        vertical-align: top;\n",
       "    }\n",
       "\n",
       "    .dataframe thead th {\n",
       "        text-align: right;\n",
       "    }\n",
       "</style>\n",
       "<table border=\"1\" class=\"dataframe\">\n",
       "  <thead>\n",
       "    <tr style=\"text-align: right;\">\n",
       "      <th></th>\n",
       "      <th>Age</th>\n",
       "      <th>Germany</th>\n",
       "      <th>Sex</th>\n",
       "      <th>Credit Card</th>\n",
       "      <th>Loan Product</th>\n",
       "      <th>Savings Account</th>\n",
       "    </tr>\n",
       "  </thead>\n",
       "  <tbody>\n",
       "    <tr>\n",
       "      <th>0</th>\n",
       "      <td>34.0</td>\n",
       "      <td>0</td>\n",
       "      <td>0</td>\n",
       "      <td>0</td>\n",
       "      <td>0</td>\n",
       "      <td>1</td>\n",
       "    </tr>\n",
       "    <tr>\n",
       "      <th>1</th>\n",
       "      <td>36.0</td>\n",
       "      <td>1</td>\n",
       "      <td>0</td>\n",
       "      <td>0</td>\n",
       "      <td>0</td>\n",
       "      <td>1</td>\n",
       "    </tr>\n",
       "    <tr>\n",
       "      <th>2</th>\n",
       "      <td>30.0</td>\n",
       "      <td>0</td>\n",
       "      <td>1</td>\n",
       "      <td>0</td>\n",
       "      <td>0</td>\n",
       "      <td>1</td>\n",
       "    </tr>\n",
       "    <tr>\n",
       "      <th>3</th>\n",
       "      <td>37.0</td>\n",
       "      <td>0</td>\n",
       "      <td>0</td>\n",
       "      <td>0</td>\n",
       "      <td>0</td>\n",
       "      <td>1</td>\n",
       "    </tr>\n",
       "    <tr>\n",
       "      <th>4</th>\n",
       "      <td>40.0</td>\n",
       "      <td>1</td>\n",
       "      <td>0</td>\n",
       "      <td>0</td>\n",
       "      <td>0</td>\n",
       "      <td>1</td>\n",
       "    </tr>\n",
       "  </tbody>\n",
       "</table>\n",
       "</div>"
      ],
      "text/plain": [
       "    Age  Germany  Sex  Credit Card  Loan Product  Savings Account\n",
       "0  34.0        0    0            0             0                1\n",
       "1  36.0        1    0            0             0                1\n",
       "2  30.0        0    1            0             0                1\n",
       "3  37.0        0    0            0             0                1\n",
       "4  40.0        1    0            0             0                1"
      ]
     },
     "execution_count": 42,
     "metadata": {},
     "output_type": "execute_result"
    }
   ],
   "source": [
    "# Now, let's see if we can get even more higher accurracy for our model by removing the features on the zero mark and below on the cox plot:\n",
    "\n",
    "\n",
    "columns_to_drop1 = ['EstimatedSalary', 'Balance', 'CreditScore', 'HasCrCard', 'Spain', 'Checking Account', 'France', 'Tenure', 'Exited']\n",
    "X2 = df.drop(columns_to_drop1, axis = 1)\n",
    "y2 = df['Exited']\n",
    "\n",
    "X2.head()\n",
    "\n"
   ]
  },
  {
   "cell_type": "code",
   "execution_count": 43,
   "id": "dc948bc0-2a9a-4102-97a6-fdbcf629e34b",
   "metadata": {},
   "outputs": [],
   "source": [
    "# Scaling our dataset \n",
    "\n",
    "# Initialize StandardScaler\n",
    "scaler = StandardScaler()\n",
    "\n",
    "# Fit and transform the data\n",
    "scaled_data2 = scaler.fit_transform(X2)\n",
    "\n",
    "# Create a DataFrame with the scaled data\n",
    "X2_scaled = pd.DataFrame(scaled_data2, columns=X2.columns)"
   ]
  },
  {
   "cell_type": "code",
   "execution_count": 44,
   "id": "a763296e-02d8-466b-bde5-6f42c8954a9e",
   "metadata": {},
   "outputs": [],
   "source": [
    "X2_train, X2_test, y2_train, y2_test = train_test_split(X2_scaled, \n",
    "                                                    y2, \n",
    "                                                    test_size=0.3)"
   ]
  },
  {
   "cell_type": "code",
   "execution_count": 45,
   "id": "d848e635-a2e5-4052-ac51-da2f866e7d8b",
   "metadata": {},
   "outputs": [
    {
     "name": "stdout",
     "output_type": "stream",
     "text": [
      "Coefficient: \n",
      " [[0.73901503 0.5840003  0.30683143 0.62621538 0.27568349 0.59151648]]\n",
      "Intercept: \n",
      " [-1.25895575]\n",
      "              precision    recall  f1-score   support\n",
      "\n",
      "Not Exited=0       0.81      0.93      0.87     17947\n",
      "    Exited=1       0.70      0.42      0.52      6583\n",
      "\n",
      "    accuracy                           0.80     24530\n",
      "   macro avg       0.76      0.68      0.70     24530\n",
      "weighted avg       0.78      0.80      0.78     24530\n",
      "\n"
     ]
    }
   ],
   "source": [
    "# Using the Logistic regression model:\n",
    "\n",
    "# Create logistic regression object\n",
    "model = LogisticRegression()\n",
    "\n",
    "# Train the model using the training sets and check score\n",
    "\n",
    "model.fit(X2_train,y2_train)\n",
    "model.score(X2_train,y2_train)\n",
    "\n",
    "# Equation coefficient and intercept\n",
    "\n",
    "print('Coefficient: \\n', model.coef_)\n",
    "print('Intercept: \\n', model.intercept_)\n",
    "\n",
    "\n",
    "# Predict output\n",
    "\n",
    "y2_pred = model.predict(X2_test)\n",
    "\n",
    "\n",
    "print(classification_report(y2_test, y2_pred, target_names=[\"Not Exited=0\", \"Exited=1\"]))"
   ]
  },
  {
   "cell_type": "code",
   "execution_count": null,
   "id": "916d3561-b16b-4606-82dd-88dc311e6ab0",
   "metadata": {},
   "outputs": [],
   "source": []
  },
  {
   "cell_type": "code",
   "execution_count": null,
   "id": "a90108d4-05d9-4693-aabe-86886759d272",
   "metadata": {},
   "outputs": [],
   "source": []
  },
  {
   "cell_type": "code",
   "execution_count": null,
   "id": "dceb7089-490a-4a4d-9736-9ac232f18f4a",
   "metadata": {},
   "outputs": [],
   "source": []
  },
  {
   "cell_type": "markdown",
   "id": "f5a84ef2-632b-46de-bcb8-a2674412f58b",
   "metadata": {},
   "source": [
    "#### Trying to look for a model to be selected"
   ]
  },
  {
   "cell_type": "code",
   "execution_count": 46,
   "id": "1e3f68f3-b15a-414e-bf9f-b6d31b27e9ca",
   "metadata": {},
   "outputs": [
    {
     "name": "stdout",
     "output_type": "stream",
     "text": [
      "LR, 0.7981620834830656, 0.004370670545120975\n",
      "LDA, 0.7975155816276056, 0.004415711599338045\n",
      "KNN, 0.7790651493544322, 0.005272668658926303\n",
      "CART, 0.80875017232194, 0.005408003505746818\n",
      "RF, 0.808802598486644, 0.005403588330998049\n",
      "NB, 0.7518960480794392, 0.007115660861779561\n",
      "SVM, 0.8070903503010459, 0.004620321138912607\n"
     ]
    },
    {
     "data": {
      "image/png": "[encoded data removed]",
      "text/plain": [
       "<Figure size 1000x700 with 1 Axes>"
      ]
     },
     "metadata": {},
     "output_type": "display_data"
    }
   ],
   "source": [
    "from sklearn.linear_model import LogisticRegression\n",
    "from sklearn.tree import DecisionTreeClassifier\n",
    "from sklearn.ensemble import RandomForestClassifier\n",
    "from sklearn.neighbors import KNeighborsClassifier\n",
    "from sklearn.discriminant_analysis import LinearDiscriminantAnalysis\n",
    "from sklearn.naive_bayes import GaussianNB\n",
    "from sklearn.svm import SVC\n",
    "from sklearn import model_selection\n",
    "import matplotlib.pyplot as plt\n",
    "\n",
    "# prepare configuration for cross-validation test harness\n",
    "seed = 7\n",
    "\n",
    "# prepare models\n",
    "models = []\n",
    "models.append(('LR', LogisticRegression()))\n",
    "models.append(('LDA', LinearDiscriminantAnalysis()))\n",
    "models.append(('KNN', KNeighborsClassifier()))\n",
    "models.append(('CART', DecisionTreeClassifier()))\n",
    "models.append(('RF', RandomForestClassifier()))\n",
    "models.append(('NB', GaussianNB()))\n",
    "models.append(('SVM', SVC()))\n",
    "\n",
    "# evaluate each model in turn\n",
    "results = []\n",
    "names = []\n",
    "scoring = 'accuracy'\n",
    "\n",
    "for name, model in models:\n",
    "    kfold = model_selection.KFold(n_splits=10, shuffle=True, random_state=seed)\n",
    "    cv_results = model_selection.cross_val_score(model, X2_train, y2_train, cv=kfold, scoring=scoring)\n",
    "    results.append(cv_results)\n",
    "    names.append(name)\n",
    "    # msg = \"%s: %f (%f)\" % (name, cv_results.mean(), cv_results.std())\n",
    "    # print(msg)\n",
    "    message = f\"{name}, {cv_results.mean()}, {cv_results.std()}\"\n",
    "    print(message)\n",
    "# boxplot algorithm comparison\n",
    "fig = plt.figure()\n",
    "fig.suptitle('Algorithm Comparison')\n",
    "ax = fig.add_subplot(111)\n",
    "plt.boxplot(results)\n",
    "ax.set_xticklabels(names)\n",
    "plt.show()"
   ]
  },
  {
   "cell_type": "code",
   "execution_count": null,
   "id": "cd6b5320-c8ee-407f-b9db-d4fda309aac7",
   "metadata": {},
   "outputs": [],
   "source": []
  },
  {
   "cell_type": "markdown",
   "id": "c3355122-059d-4447-8f46-157e3060ffc1",
   "metadata": {},
   "source": [
    "## Model selection"
   ]
  },
  {
   "cell_type": "markdown",
   "id": "051ba125-a27b-4db7-bf3c-30e48242a54d",
   "metadata": {},
   "source": [
    "After inputting the most siginificant features into a loop of 7 different classifier models, RandomForestClassifier came up with the highest accuracy with 80.9% followed by DecisionTreeClassifier with 80.8%.\n",
    "For this project, I will be selecting the RandomForestClassifier to build my model."
   ]
  },
  {
   "cell_type": "code",
   "execution_count": 47,
   "id": "c9bb2faa-10da-4de0-913b-b980c4eee052",
   "metadata": {},
   "outputs": [
    {
     "name": "stdout",
     "output_type": "stream",
     "text": [
      "              precision    recall  f1-score   support\n",
      "\n",
      "Not Exited=0       0.82      0.94      0.88     17947\n",
      "    Exited=1       0.73      0.45      0.56      6583\n",
      "\n",
      "    accuracy                           0.81     24530\n",
      "   macro avg       0.78      0.69      0.72     24530\n",
      "weighted avg       0.80      0.81      0.79     24530\n",
      "\n"
     ]
    }
   ],
   "source": [
    "# Importing the needed library\n",
    "\n",
    "from sklearn.ensemble import RandomForestClassifier\n",
    "\n",
    "\n",
    "# Using the RandomForest model:\n",
    "\n",
    "# Create RandomForest object\n",
    "modelRF = RandomForestClassifier()\n",
    "\n",
    "# Train the model using the training sets and check score\n",
    "\n",
    "modelRF.fit(X2_train,y2_train)\n",
    "modelRF.score(X2_train,y2_train)\n",
    "\n",
    "\n",
    "\n",
    "\n",
    "# Predict output\n",
    "\n",
    "y2_pred = modelRF.predict(X2_test)\n",
    "\n",
    "\n",
    "print(classification_report(y2_test, y2_pred, target_names=[\"Not Exited=0\", \"Exited=1\"]))\n"
   ]
  },
  {
   "cell_type": "code",
   "execution_count": 48,
   "id": "d62042e2-f2b5-4bb8-9fcf-e1d6e98e9148",
   "metadata": {},
   "outputs": [
    {
     "data": {
      "text/plain": [
       "(24530,)"
      ]
     },
     "execution_count": 48,
     "metadata": {},
     "output_type": "execute_result"
    }
   ],
   "source": [
    "y2_pred.shape"
   ]
  },
  {
   "cell_type": "code",
   "execution_count": 49,
   "id": "19b9dc75-4b28-4ba4-88c9-fc674d3a0a17",
   "metadata": {},
   "outputs": [
    {
     "data": {
      "text/plain": [
       "(24530, 6)"
      ]
     },
     "execution_count": 49,
     "metadata": {},
     "output_type": "execute_result"
    }
   ],
   "source": [
    "X2_test.shape"
   ]
  },
  {
   "cell_type": "code",
   "execution_count": null,
   "id": "7d9cae5b-4f38-45eb-a346-beb56e225a38",
   "metadata": {},
   "outputs": [],
   "source": []
  },
  {
   "cell_type": "code",
   "execution_count": 50,
   "id": "26e0b949-8081-42e6-9232-a1c3b3008109",
   "metadata": {},
   "outputs": [
    {
     "name": "stdout",
     "output_type": "stream",
     "text": [
      "precision: 0.7324746098588061\n",
      "F1: 0.5568738229755179\n",
      "recall: 0.44918730062281637\n",
      "Accuracy: 0.8081532816958826\n"
     ]
    }
   ],
   "source": [
    "\n",
    "from sklearn.metrics import accuracy_score, f1_score, precision_score, recall_score\n",
    " \n",
    "print('precision:',precision_score(y2_test, y2_pred))\n",
    "\n",
    "print('F1:',f1_score(y2_test, y2_pred))\n",
    "\n",
    "print('recall:',recall_score(y2_test, y2_pred))\n",
    "\n",
    "print('Accuracy:',accuracy_score(y2_test, y2_pred))"
   ]
  },
  {
   "cell_type": "code",
   "execution_count": null,
   "id": "09bca9ea-89e9-4fb6-a535-f44908cb11a5",
   "metadata": {},
   "outputs": [],
   "source": []
  },
  {
   "cell_type": "code",
   "execution_count": 51,
   "id": "03632384-fae9-4119-a9ee-6eebc700c2a8",
   "metadata": {},
   "outputs": [
    {
     "name": "stdout",
     "output_type": "stream",
     "text": [
      "[[16867  1080]\n",
      " [ 3626  2957]]\n",
      "\n",
      "\n",
      "              precision    recall  f1-score   support\n",
      "\n",
      "           0       0.82      0.94      0.88     17947\n",
      "           1       0.73      0.45      0.56      6583\n",
      "\n",
      "    accuracy                           0.81     24530\n",
      "   macro avg       0.78      0.69      0.72     24530\n",
      "weighted avg       0.80      0.81      0.79     24530\n",
      "\n"
     ]
    }
   ],
   "source": [
    "print(confusion_matrix(y2_test, y2_pred))\n",
    "print('\\n')\n",
    "print(classification_report(y2_test,y2_pred))"
   ]
  },
  {
   "cell_type": "code",
   "execution_count": null,
   "id": "d8e0f4c1-768d-4649-be6a-7a7673c90c22",
   "metadata": {},
   "outputs": [],
   "source": []
  },
  {
   "cell_type": "code",
   "execution_count": null,
   "id": "6b57f6d4-a948-433e-b011-b3995a77cff6",
   "metadata": {},
   "outputs": [],
   "source": []
  },
  {
   "cell_type": "code",
   "execution_count": null,
   "id": "f375ef73-ed52-4546-bae8-b6f58bcd24d9",
   "metadata": {},
   "outputs": [],
   "source": []
  },
  {
   "cell_type": "markdown",
   "id": "db68dd4d-2b80-49bc-8642-389ffa716abb",
   "metadata": {},
   "source": [
    "### In conclusion\n",
    "\n",
    "Based on the Per-Class Metrics indicated above from our selected model:\n",
    "\n",
    "In this model, Not Exited = 0 (which means the customer is still with HBS bank)  while Exited = 1(which means, customer actually churned) \n",
    "\n",
    "Precision(0.71):  This metric represents the proportion of positive predictions that were actually correct. In simpler terms, this is how accurate the model is when it predicts a positive class.\n",
    "\n",
    "Recall (0.48): This metric focuses on completeness. It represents the proportion of actual positive cases that were correctly identified by the model. In other words, it shows how good the model is at finding all the relevant positive cases.\n",
    "\n",
    "F1-Score (0.57):  This is a harmonic mean of precision and recall, combining both metrics into a single score. An F1-score of 1 indicates perfect precision and recall, while a score closer to 0 suggests poor performance. In our model, F1 score is slightly above the mid-point which shows an average performance.\n",
    "\n",
    "Support: This value simply represents the total number of true instances for a particular class in your dataset."
   ]
  },
  {
   "cell_type": "code",
   "execution_count": null,
   "id": "a740163f-df19-4e10-8542-bd8c6a8e91d2",
   "metadata": {},
   "outputs": [],
   "source": []
  },
  {
   "cell_type": "code",
   "execution_count": null,
   "id": "50360f7a-3cd8-4da7-83c3-bad5c86abd01",
   "metadata": {},
   "outputs": [],
   "source": []
  },
  {
   "cell_type": "markdown",
   "id": "2bcffca2-99c2-4cd1-bb7f-543c48ff6403",
   "metadata": {},
   "source": [
    "#### Summary and Model selection"
   ]
  },
  {
   "cell_type": "markdown",
   "id": "c44dc788-4f60-4c5a-a8a1-7d5662a29c02",
   "metadata": {},
   "source": [
    "\n",
    "\n",
    "In summary, I would advise the new manager to make adjustments such as our marketing strategy on these products that HBS bank offers which are: Credit Card, Loan Product, Savings account with more emphasis on Credit Card and Loan Product as they look like a major product to keep them with HBS bank, so also, the target audience will be customers in Germany as this was established by the cox proportional hazards model which made us know the statistical significant features.\n",
    "\n",
    "\n",
    "After inputting the most siginificant features into a loop of 7 different classifier models, RandomForestClassifier came up with the highest accuracy with 80.9% followed by DecisionTreeClassifier with 80.8%\n"
   ]
  },
  {
   "cell_type": "code",
   "execution_count": null,
   "id": "15b2e79e-b0d6-441b-af9b-7963e68e983f",
   "metadata": {},
   "outputs": [],
   "source": []
  }
 ],
 "metadata": {
  "kernelspec": {
   "display_name": "Python 3 (ipykernel)",
   "language": "python",
   "name": "python3"
  },
  "language_info": {
   "codemirror_mode": {
    "name": "ipython",
    "version": 3
   },
   "file_extension": ".py",
   "mimetype": "text/x-python",
   "name": "python",
   "nbconvert_exporter": "python",
   "pygments_lexer": "ipython3",
   "version": "3.12.4"
  }
 },
 "nbformat": 4,
 "nbformat_minor": 5
}
